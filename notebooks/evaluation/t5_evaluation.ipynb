{
 "cells": [
  {
   "cell_type": "code",
   "execution_count": 1,
   "metadata": {},
   "outputs": [
    {
     "name": "stderr",
     "output_type": "stream",
     "text": [
      "c:\\Users\\Luka\\miniconda3\\envs\\NLP\\Lib\\site-packages\\tqdm\\auto.py:21: TqdmWarning: IProgress not found. Please update jupyter and ipywidgets. See https://ipywidgets.readthedocs.io/en/stable/user_install.html\n",
      "  from .autonotebook import tqdm as notebook_tqdm\n",
      "[nltk_data] Downloading package punkt to\n",
      "[nltk_data]     C:\\Users\\Luka\\AppData\\Roaming\\nltk_data...\n",
      "[nltk_data]   Package punkt is already up-to-date!\n"
     ]
    }
   ],
   "source": [
    "from transformers import AutoModelForSeq2SeqLM, AutoModel, AutoTokenizer\n",
    "import nltk\n",
    "import json\n",
    "import pandas as pd\n",
    "from datasets import *\n",
    "import numpy as np\n",
    "import torch\n",
    "\n",
    "nltk.download('punkt')\n",
    "SEED = 42"
   ]
  },
  {
   "cell_type": "code",
   "execution_count": 2,
   "metadata": {},
   "outputs": [],
   "source": [
    "split = \"test\" # seocify which split to evaluate\n",
    "# split = \"val\"\n",
    "# split = \"train\"\n",
    "model_path = \"../../models\"\n",
    "data_path_pairs = '../../data/processed/prompt_reply_pairs.csv'"
   ]
  },
  {
   "cell_type": "code",
   "execution_count": 3,
   "metadata": {},
   "outputs": [],
   "source": [
    "model_name = \"t5-sl-small-finetuned-assistant\"\n",
    "tokenizer = AutoTokenizer.from_pretrained(f\"{model_path}/{model_name}\")\n",
    "model = AutoModelForSeq2SeqLM.from_pretrained(f\"{model_path}/{model_name}\").to(\"cuda\")"
   ]
  },
  {
   "cell_type": "code",
   "execution_count": 4,
   "metadata": {},
   "outputs": [
    {
     "data": {
      "text/html": [
       "<div>\n",
       "<style scoped>\n",
       "    .dataframe tbody tr th:only-of-type {\n",
       "        vertical-align: middle;\n",
       "    }\n",
       "\n",
       "    .dataframe tbody tr th {\n",
       "        vertical-align: top;\n",
       "    }\n",
       "\n",
       "    .dataframe thead th {\n",
       "        text-align: right;\n",
       "    }\n",
       "</style>\n",
       "<table border=\"1\" class=\"dataframe\">\n",
       "  <thead>\n",
       "    <tr style=\"text-align: right;\">\n",
       "      <th></th>\n",
       "      <th>prompt</th>\n",
       "      <th>reply</th>\n",
       "      <th>rank</th>\n",
       "      <th>split</th>\n",
       "    </tr>\n",
       "  </thead>\n",
       "  <tbody>\n",
       "    <tr>\n",
       "      <th>0</th>\n",
       "      <td>V mojo hišo bodo prispeli 3 prijatelji, rad bi...</td>\n",
       "      <td>Kaj pa igranje lažnivca? Za to igro so potrebn...</td>\n",
       "      <td>0</td>\n",
       "      <td>train</td>\n",
       "    </tr>\n",
       "    <tr>\n",
       "      <th>1</th>\n",
       "      <td>V mojo hišo bodo prispeli 3 prijatelji, rad bi...</td>\n",
       "      <td>Uno: Je klasična igra za otroke in odrasle, pr...</td>\n",
       "      <td>1</td>\n",
       "      <td>train</td>\n",
       "    </tr>\n",
       "    <tr>\n",
       "      <th>2</th>\n",
       "      <td>V mojo hišo bodo prispeli 3 prijatelji, rad bi...</td>\n",
       "      <td>Igrate lahko:\\n - 8 noro\\n - celina\\n - Lažnivec</td>\n",
       "      <td>2</td>\n",
       "      <td>train</td>\n",
       "    </tr>\n",
       "    <tr>\n",
       "      <th>3</th>\n",
       "      <td>Napišite hvalnico šolskemu taboru v slogu Mela...</td>\n",
       "      <td>Spomnim se vas prijatelji\\nIn spet sva se sreč...</td>\n",
       "      <td>0</td>\n",
       "      <td>train</td>\n",
       "    </tr>\n",
       "    <tr>\n",
       "      <th>4</th>\n",
       "      <td>Ali kaj bolj veselega?</td>\n",
       "      <td>♪ Spakirajte in se pridružite zabavi!♪\\n♪ Šols...</td>\n",
       "      <td>0</td>\n",
       "      <td>train</td>\n",
       "    </tr>\n",
       "    <tr>\n",
       "      <th>...</th>\n",
       "      <td>...</td>\n",
       "      <td>...</td>\n",
       "      <td>...</td>\n",
       "      <td>...</td>\n",
       "    </tr>\n",
       "    <tr>\n",
       "      <th>47509</th>\n",
       "      <td>Hvala, bom videl, če lahko naredim te sprememb...</td>\n",
       "      <td>Elektronski seti bobnov so na splošno tišji od...</td>\n",
       "      <td>0</td>\n",
       "      <td>test</td>\n",
       "    </tr>\n",
       "    <tr>\n",
       "      <th>47510</th>\n",
       "      <td>Hvala, bom videl, če lahko naredim te sprememb...</td>\n",
       "      <td>To je odvisno od seta bobnov, ki ga trenutno u...</td>\n",
       "      <td>1</td>\n",
       "      <td>test</td>\n",
       "    </tr>\n",
       "    <tr>\n",
       "      <th>47511</th>\n",
       "      <td>Imam elektronski set bobnov, a vsakič, ko igra...</td>\n",
       "      <td>Pod komplet lahko poskusite postaviti izolacij...</td>\n",
       "      <td>2</td>\n",
       "      <td>test</td>\n",
       "    </tr>\n",
       "    <tr>\n",
       "      <th>47512</th>\n",
       "      <td>Kadarkoli poskušam postaviti izolacijski mater...</td>\n",
       "      <td>Da, obstaja več načinov, kako to popraviti.\\n\\...</td>\n",
       "      <td>0</td>\n",
       "      <td>test</td>\n",
       "    </tr>\n",
       "    <tr>\n",
       "      <th>47513</th>\n",
       "      <td>Kadarkoli poskušam postaviti izolacijski mater...</td>\n",
       "      <td>Težava, da udarec pobegne, je precej pogosta p...</td>\n",
       "      <td>1</td>\n",
       "      <td>test</td>\n",
       "    </tr>\n",
       "  </tbody>\n",
       "</table>\n",
       "<p>47514 rows × 4 columns</p>\n",
       "</div>"
      ],
      "text/plain": [
       "                                                  prompt  \\\n",
       "0      V mojo hišo bodo prispeli 3 prijatelji, rad bi...   \n",
       "1      V mojo hišo bodo prispeli 3 prijatelji, rad bi...   \n",
       "2      V mojo hišo bodo prispeli 3 prijatelji, rad bi...   \n",
       "3      Napišite hvalnico šolskemu taboru v slogu Mela...   \n",
       "4                                 Ali kaj bolj veselega?   \n",
       "...                                                  ...   \n",
       "47509  Hvala, bom videl, če lahko naredim te sprememb...   \n",
       "47510  Hvala, bom videl, če lahko naredim te sprememb...   \n",
       "47511  Imam elektronski set bobnov, a vsakič, ko igra...   \n",
       "47512  Kadarkoli poskušam postaviti izolacijski mater...   \n",
       "47513  Kadarkoli poskušam postaviti izolacijski mater...   \n",
       "\n",
       "                                                   reply  rank  split  \n",
       "0      Kaj pa igranje lažnivca? Za to igro so potrebn...     0  train  \n",
       "1      Uno: Je klasična igra za otroke in odrasle, pr...     1  train  \n",
       "2       Igrate lahko:\\n - 8 noro\\n - celina\\n - Lažnivec     2  train  \n",
       "3      Spomnim se vas prijatelji\\nIn spet sva se sreč...     0  train  \n",
       "4      ♪ Spakirajte in se pridružite zabavi!♪\\n♪ Šols...     0  train  \n",
       "...                                                  ...   ...    ...  \n",
       "47509  Elektronski seti bobnov so na splošno tišji od...     0   test  \n",
       "47510  To je odvisno od seta bobnov, ki ga trenutno u...     1   test  \n",
       "47511  Pod komplet lahko poskusite postaviti izolacij...     2   test  \n",
       "47512  Da, obstaja več načinov, kako to popraviti.\\n\\...     0   test  \n",
       "47513  Težava, da udarec pobegne, je precej pogosta p...     1   test  \n",
       "\n",
       "[47514 rows x 4 columns]"
      ]
     },
     "execution_count": 4,
     "metadata": {},
     "output_type": "execute_result"
    }
   ],
   "source": [
    "data = pd.read_csv(data_path_pairs, sep=\";\")\n",
    "data"
   ]
  },
  {
   "cell_type": "code",
   "execution_count": 5,
   "metadata": {},
   "outputs": [
    {
     "data": {
      "text/html": [
       "<div>\n",
       "<style scoped>\n",
       "    .dataframe tbody tr th:only-of-type {\n",
       "        vertical-align: middle;\n",
       "    }\n",
       "\n",
       "    .dataframe tbody tr th {\n",
       "        vertical-align: top;\n",
       "    }\n",
       "\n",
       "    .dataframe thead th {\n",
       "        text-align: right;\n",
       "    }\n",
       "</style>\n",
       "<table border=\"1\" class=\"dataframe\">\n",
       "  <thead>\n",
       "    <tr style=\"text-align: right;\">\n",
       "      <th></th>\n",
       "      <th>prompt</th>\n",
       "      <th>reply</th>\n",
       "      <th>rank</th>\n",
       "      <th>split</th>\n",
       "    </tr>\n",
       "  </thead>\n",
       "  <tbody>\n",
       "    <tr>\n",
       "      <th>42639</th>\n",
       "      <td>Vzemimo naključno matriko $n\\krat n$ z realnim...</td>\n",
       "      <td>Ocenjevanje natančne verjetnosti, da imajo vse...</td>\n",
       "      <td>0</td>\n",
       "      <td>test</td>\n",
       "    </tr>\n",
       "    <tr>\n",
       "      <th>42640</th>\n",
       "      <td>Hvala vam! Jasno mi je</td>\n",
       "      <td>Vedno z veseljem pomagamo! Vas zanima še kaj?</td>\n",
       "      <td>0</td>\n",
       "      <td>test</td>\n",
       "    </tr>\n",
       "    <tr>\n",
       "      <th>42641</th>\n",
       "      <td>Hvala vam! Jasno mi je</td>\n",
       "      <td>prosim!\\nV veselje mi je bilo pomagati vam. Ve...</td>\n",
       "      <td>1</td>\n",
       "      <td>test</td>\n",
       "    </tr>\n",
       "    <tr>\n",
       "      <th>42642</th>\n",
       "      <td>Hvala vam! Jasno mi je</td>\n",
       "      <td>Z veseljem pomagam! Ali potrebujete še kaj?</td>\n",
       "      <td>2</td>\n",
       "      <td>test</td>\n",
       "    </tr>\n",
       "    <tr>\n",
       "      <th>42643</th>\n",
       "      <td>Kakšen je geometrijski pomen izpeljanke?</td>\n",
       "      <td>Geometrični pomen odvoda je, da pokaže, kako h...</td>\n",
       "      <td>0</td>\n",
       "      <td>test</td>\n",
       "    </tr>\n",
       "    <tr>\n",
       "      <th>42644</th>\n",
       "      <td>Kakšen je geometrijski pomen izpeljanke?</td>\n",
       "      <td>Vrednost odvoda (realne) funkcije (realnega ar...</td>\n",
       "      <td>1</td>\n",
       "      <td>test</td>\n",
       "    </tr>\n",
       "    <tr>\n",
       "      <th>42645</th>\n",
       "      <td>Vzemimo naključno matriko $n\\krat n$ z realnim...</td>\n",
       "      <td>Verjetnost, da imajo lastne vrednosti naključn...</td>\n",
       "      <td>1</td>\n",
       "      <td>test</td>\n",
       "    </tr>\n",
       "    <tr>\n",
       "      <th>42646</th>\n",
       "      <td>Recimo, da je samovozeči avto v situaciji, ko ...</td>\n",
       "      <td>Avtonomni avtomobili morajo biti programirani ...</td>\n",
       "      <td>0</td>\n",
       "      <td>test</td>\n",
       "    </tr>\n",
       "    <tr>\n",
       "      <th>42647</th>\n",
       "      <td>Recimo, da je samovozeči avto v situaciji, ko ...</td>\n",
       "      <td>Avto mora biti programiran tako, da zagotavlja...</td>\n",
       "      <td>1</td>\n",
       "      <td>test</td>\n",
       "    </tr>\n",
       "    <tr>\n",
       "      <th>42648</th>\n",
       "      <td>Recimo, da je samovozeči avto v situaciji, ko ...</td>\n",
       "      <td>To vrsto etičnih dilem, kot je tista, ki jo pr...</td>\n",
       "      <td>2</td>\n",
       "      <td>test</td>\n",
       "    </tr>\n",
       "  </tbody>\n",
       "</table>\n",
       "</div>"
      ],
      "text/plain": [
       "                                                  prompt  \\\n",
       "42639  Vzemimo naključno matriko $n\\krat n$ z realnim...   \n",
       "42640                             Hvala vam! Jasno mi je   \n",
       "42641                             Hvala vam! Jasno mi je   \n",
       "42642                             Hvala vam! Jasno mi je   \n",
       "42643           Kakšen je geometrijski pomen izpeljanke?   \n",
       "42644           Kakšen je geometrijski pomen izpeljanke?   \n",
       "42645  Vzemimo naključno matriko $n\\krat n$ z realnim...   \n",
       "42646  Recimo, da je samovozeči avto v situaciji, ko ...   \n",
       "42647  Recimo, da je samovozeči avto v situaciji, ko ...   \n",
       "42648  Recimo, da je samovozeči avto v situaciji, ko ...   \n",
       "\n",
       "                                                   reply  rank split  \n",
       "42639  Ocenjevanje natančne verjetnosti, da imajo vse...     0  test  \n",
       "42640      Vedno z veseljem pomagamo! Vas zanima še kaj?     0  test  \n",
       "42641  prosim!\\nV veselje mi je bilo pomagati vam. Ve...     1  test  \n",
       "42642        Z veseljem pomagam! Ali potrebujete še kaj?     2  test  \n",
       "42643  Geometrični pomen odvoda je, da pokaže, kako h...     0  test  \n",
       "42644  Vrednost odvoda (realne) funkcije (realnega ar...     1  test  \n",
       "42645  Verjetnost, da imajo lastne vrednosti naključn...     1  test  \n",
       "42646  Avtonomni avtomobili morajo biti programirani ...     0  test  \n",
       "42647  Avto mora biti programiran tako, da zagotavlja...     1  test  \n",
       "42648  To vrsto etičnih dilem, kot je tista, ki jo pr...     2  test  "
      ]
     },
     "execution_count": 5,
     "metadata": {},
     "output_type": "execute_result"
    }
   ],
   "source": [
    "data[data[\"split\"] == split][:10]"
   ]
  },
  {
   "cell_type": "code",
   "execution_count": 6,
   "metadata": {},
   "outputs": [
    {
     "data": {
      "text/plain": [
       "Dataset({\n",
       "    features: ['prompt', 'reply', '__index_level_0__'],\n",
       "    num_rows: 4875\n",
       "})"
      ]
     },
     "execution_count": 6,
     "metadata": {},
     "output_type": "execute_result"
    }
   ],
   "source": [
    "eval_data = Dataset.from_pandas(data[data['split'] == split][[\"prompt\", \"reply\"]])\n",
    "eval_data"
   ]
  },
  {
   "cell_type": "code",
   "execution_count": 7,
   "metadata": {},
   "outputs": [
    {
     "data": {
      "text/plain": [
       "['Vzemimo naključno matriko $n\\\\krat n$ z realnimi elementi, od katerih je vsak element izbran neodvisno od drugih iz standardne normalne porazdelitve. Kako oceniti verjetnost, da imajo vse lastne vrednosti te matrike pozitiven realni del? Kakšno je asimptotično obnašanje te verjetnosti, ko $n$ teži k neskončnosti?',\n",
       " 'Hvala vam! Jasno mi je',\n",
       " 'Hvala vam! Jasno mi je',\n",
       " 'Hvala vam! Jasno mi je',\n",
       " 'Kakšen je geometrijski pomen izpeljanke?',\n",
       " 'Kakšen je geometrijski pomen izpeljanke?',\n",
       " 'Vzemimo naključno matriko $n\\\\krat n$ z realnimi elementi, od katerih je vsak element izbran neodvisno od drugih iz standardne normalne porazdelitve. Kako oceniti verjetnost, da imajo vse lastne vrednosti te matrike pozitiven realni del? Kakšno je asimptotično obnašanje te verjetnosti, ko $n$ teži k neskončnosti?',\n",
       " 'Recimo, da je samovozeči avto v situaciji, ko sta dve možnosti: povoziti starca in rešiti otroka ali povoziti otroka, da bi rešil starca, kako naj bo avto programiran?',\n",
       " 'Recimo, da je samovozeči avto v situaciji, ko sta dve možnosti: povoziti starca in rešiti otroka ali povoziti otroka, da bi rešil starca, kako naj bo avto programiran?',\n",
       " 'Recimo, da je samovozeči avto v situaciji, ko sta dve možnosti: povoziti starca in rešiti otroka ali povoziti otroka, da bi rešil starca, kako naj bo avto programiran?']"
      ]
     },
     "execution_count": 7,
     "metadata": {},
     "output_type": "execute_result"
    }
   ],
   "source": [
    "eval_data[:10][\"prompt\"]"
   ]
  },
  {
   "cell_type": "code",
   "execution_count": 8,
   "metadata": {},
   "outputs": [],
   "source": [
    "def convert_to_features(examples):\n",
    "    prefix_in = \"Uporabnik: \"\n",
    "    # prefix_in = \"\"\n",
    "    examples[\"prompt\"] = [prefix_in + prompt for prompt in examples[\"prompt\"]]\n",
    "    # prefix_out = \"Asistent: \"\n",
    "    prefix_out = \"\"\n",
    "    examples[\"reply\"] = [prefix_out + reply for reply in examples[\"reply\"]]\n",
    "    \n",
    "    model_inputs = tokenizer(examples['prompt'], pad_to_max_length=True, max_length=512, truncation=True, return_tensors='pt')\n",
    "\n",
    "    with tokenizer.as_target_tokenizer():\n",
    "        labels = tokenizer(examples['reply'], pad_to_max_length=True, max_length=128, truncation=True, return_tensors='pt')\n",
    "\n",
    "    model_inputs[\"labels\"] = labels[\"input_ids\"]\n",
    "    return model_inputs"
   ]
  },
  {
   "cell_type": "code",
   "execution_count": 9,
   "metadata": {},
   "outputs": [
    {
     "name": "stderr",
     "output_type": "stream",
     "text": [
      "Map:   0%|          | 0/4875 [00:00<?, ? examples/s]c:\\Users\\Luka\\miniconda3\\envs\\NLP\\Lib\\site-packages\\transformers\\tokenization_utils_base.py:2364: FutureWarning: The `pad_to_max_length` argument is deprecated and will be removed in a future version, use `padding=True` or `padding='longest'` to pad to the longest sequence in the batch, or use `padding='max_length'` to pad to a max length. In this case, you can give a specific length with `max_length` (e.g. `max_length=45`) or leave max_length to None to pad to the maximal input size of the model (e.g. 512 for Bert).\n",
      "  warnings.warn(\n",
      "c:\\Users\\Luka\\miniconda3\\envs\\NLP\\Lib\\site-packages\\transformers\\tokenization_utils_base.py:3606: UserWarning: `as_target_tokenizer` is deprecated and will be removed in v5 of Transformers. You can tokenize your labels by using the argument `text_target` of the regular `__call__` method (either in the same call as your input texts if you use the same keyword arguments, or in a separate call.\n",
      "  warnings.warn(\n",
      "                                                                 \r"
     ]
    },
    {
     "data": {
      "text/plain": [
       "Dataset({\n",
       "    features: ['prompt', 'reply', '__index_level_0__', 'input_ids', 'attention_mask', 'labels'],\n",
       "    num_rows: 4875\n",
       "})"
      ]
     },
     "execution_count": 9,
     "metadata": {},
     "output_type": "execute_result"
    }
   ],
   "source": [
    "eval_data = eval_data.map(convert_to_features, batched=True, load_from_cache_file=False)\n",
    "eval_data.set_format(type=\"torch\", columns=[\"input_ids\", \"attention_mask\", \"labels\"])\n",
    "eval_data"
   ]
  },
  {
   "attachments": {},
   "cell_type": "markdown",
   "metadata": {},
   "source": [
    "### Evaluate"
   ]
  },
  {
   "attachments": {},
   "cell_type": "markdown",
   "metadata": {},
   "source": [
    "#### Qualitative"
   ]
  },
  {
   "attachments": {},
   "cell_type": "markdown",
   "metadata": {},
   "source": [
    "The generation ran almost 30minutes"
   ]
  },
  {
   "cell_type": "code",
   "execution_count": 10,
   "metadata": {},
   "outputs": [],
   "source": [
    "# split so it fits on a 12gb gpu - couldn't find a better way (model.generate() options that would do this automatically...)\n",
    "indices = np.concatenate([np.arange(0, eval_data.num_rows, eval_data.num_rows // 100), [eval_data.num_rows]])\n",
    "\n",
    "outputs = []\n",
    "for i, _ in enumerate(indices[:-1]):\n",
    "    input_ids = eval_data[indices[i]:indices[i+1]]['input_ids'].to(\"cuda\")\n",
    "    outputs.append(model.generate(eval_data[indices[i]:indices[i+1]]['input_ids'].to(\"cuda\"), max_length=512, no_repeat_ngram_size=2, num_beams=5, num_return_sequences=1))"
   ]
  },
  {
   "cell_type": "code",
   "execution_count": 23,
   "metadata": {},
   "outputs": [],
   "source": [
    "# results = tokenizer.batch_decode(outputs, skip_special_tokens=True)\n",
    "results, prediction_lens = [], []\n",
    "for output in outputs:\n",
    "    results.extend(tokenizer.batch_decode(output, skip_special_tokens=True))\n",
    "    prediction_lens.extend([(np.count_nonzero(o.cpu() != tokenizer.pad_token_id)) for o in output])"
   ]
  },
  {
   "cell_type": "code",
   "execution_count": 24,
   "metadata": {},
   "outputs": [
    {
     "data": {
      "text/html": [
       "<div>\n",
       "<style scoped>\n",
       "    .dataframe tbody tr th:only-of-type {\n",
       "        vertical-align: middle;\n",
       "    }\n",
       "\n",
       "    .dataframe tbody tr th {\n",
       "        vertical-align: top;\n",
       "    }\n",
       "\n",
       "    .dataframe thead th {\n",
       "        text-align: right;\n",
       "    }\n",
       "</style>\n",
       "<table border=\"1\" class=\"dataframe\">\n",
       "  <thead>\n",
       "    <tr style=\"text-align: right;\">\n",
       "      <th></th>\n",
       "      <th>prompt</th>\n",
       "      <th>reply</th>\n",
       "      <th>rank</th>\n",
       "      <th>split</th>\n",
       "      <th>generated</th>\n",
       "      <th>token_prediction_len</th>\n",
       "    </tr>\n",
       "  </thead>\n",
       "  <tbody>\n",
       "    <tr>\n",
       "      <th>0</th>\n",
       "      <td>Vzemimo naključno matriko $n\\krat n$ z realnim...</td>\n",
       "      <td>Ocenjevanje natančne verjetnosti, da imajo vse...</td>\n",
       "      <td>0</td>\n",
       "      <td>test</td>\n",
       "      <td>Verjetnost, da imajo vse lastne vrednosti matr...</td>\n",
       "      <td>59</td>\n",
       "    </tr>\n",
       "    <tr>\n",
       "      <th>1</th>\n",
       "      <td>Hvala vam! Jasno mi je</td>\n",
       "      <td>Vedno z veseljem pomagamo! Vas zanima še kaj?</td>\n",
       "      <td>0</td>\n",
       "      <td>test</td>\n",
       "      <td>Ni za kaj!</td>\n",
       "      <td>5</td>\n",
       "    </tr>\n",
       "    <tr>\n",
       "      <th>2</th>\n",
       "      <td>Hvala vam! Jasno mi je</td>\n",
       "      <td>prosim!\\nV veselje mi je bilo pomagati vam. Ve...</td>\n",
       "      <td>1</td>\n",
       "      <td>test</td>\n",
       "      <td>Ni za kaj!</td>\n",
       "      <td>5</td>\n",
       "    </tr>\n",
       "    <tr>\n",
       "      <th>3</th>\n",
       "      <td>Hvala vam! Jasno mi je</td>\n",
       "      <td>Z veseljem pomagam! Ali potrebujete še kaj?</td>\n",
       "      <td>2</td>\n",
       "      <td>test</td>\n",
       "      <td>Ni za kaj!</td>\n",
       "      <td>5</td>\n",
       "    </tr>\n",
       "    <tr>\n",
       "      <th>4</th>\n",
       "      <td>Kakšen je geometrijski pomen izpeljanke?</td>\n",
       "      <td>Geometrični pomen odvoda je, da pokaže, kako h...</td>\n",
       "      <td>0</td>\n",
       "      <td>test</td>\n",
       "      <td>Da, geometrijski pomen izpeljanke je matematič...</td>\n",
       "      <td>69</td>\n",
       "    </tr>\n",
       "    <tr>\n",
       "      <th>...</th>\n",
       "      <td>...</td>\n",
       "      <td>...</td>\n",
       "      <td>...</td>\n",
       "      <td>...</td>\n",
       "      <td>...</td>\n",
       "      <td>...</td>\n",
       "    </tr>\n",
       "    <tr>\n",
       "      <th>4870</th>\n",
       "      <td>Hvala, bom videl, če lahko naredim te sprememb...</td>\n",
       "      <td>Elektronski seti bobnov so na splošno tišji od...</td>\n",
       "      <td>0</td>\n",
       "      <td>test</td>\n",
       "      <td>Seveda, tukaj je nekaj elektronskih setov bobn...</td>\n",
       "      <td>100</td>\n",
       "    </tr>\n",
       "    <tr>\n",
       "      <th>4871</th>\n",
       "      <td>Hvala, bom videl, če lahko naredim te sprememb...</td>\n",
       "      <td>To je odvisno od seta bobnov, ki ga trenutno u...</td>\n",
       "      <td>1</td>\n",
       "      <td>test</td>\n",
       "      <td>Seveda, tukaj je nekaj elektronskih setov bobn...</td>\n",
       "      <td>100</td>\n",
       "    </tr>\n",
       "    <tr>\n",
       "      <th>4872</th>\n",
       "      <td>Imam elektronski set bobnov, a vsakič, ko igra...</td>\n",
       "      <td>Pod komplet lahko poskusite postaviti izolacij...</td>\n",
       "      <td>2</td>\n",
       "      <td>test</td>\n",
       "      <td>Seveda, tukaj je nekaj nasvetov, ki jih lahko ...</td>\n",
       "      <td>78</td>\n",
       "    </tr>\n",
       "    <tr>\n",
       "      <th>4873</th>\n",
       "      <td>Kadarkoli poskušam postaviti izolacijski mater...</td>\n",
       "      <td>Da, obstaja več načinov, kako to popraviti.\\n\\...</td>\n",
       "      <td>0</td>\n",
       "      <td>test</td>\n",
       "      <td>Seveda, tukaj je nekaj možnih rešitev, ki jih ...</td>\n",
       "      <td>126</td>\n",
       "    </tr>\n",
       "    <tr>\n",
       "      <th>4874</th>\n",
       "      <td>Kadarkoli poskušam postaviti izolacijski mater...</td>\n",
       "      <td>Težava, da udarec pobegne, je precej pogosta p...</td>\n",
       "      <td>1</td>\n",
       "      <td>test</td>\n",
       "      <td>Seveda, tukaj je nekaj možnih rešitev, ki jih ...</td>\n",
       "      <td>126</td>\n",
       "    </tr>\n",
       "  </tbody>\n",
       "</table>\n",
       "<p>4875 rows × 6 columns</p>\n",
       "</div>"
      ],
      "text/plain": [
       "                                                 prompt  \\\n",
       "0     Vzemimo naključno matriko $n\\krat n$ z realnim...   \n",
       "1                                Hvala vam! Jasno mi je   \n",
       "2                                Hvala vam! Jasno mi je   \n",
       "3                                Hvala vam! Jasno mi je   \n",
       "4              Kakšen je geometrijski pomen izpeljanke?   \n",
       "...                                                 ...   \n",
       "4870  Hvala, bom videl, če lahko naredim te sprememb...   \n",
       "4871  Hvala, bom videl, če lahko naredim te sprememb...   \n",
       "4872  Imam elektronski set bobnov, a vsakič, ko igra...   \n",
       "4873  Kadarkoli poskušam postaviti izolacijski mater...   \n",
       "4874  Kadarkoli poskušam postaviti izolacijski mater...   \n",
       "\n",
       "                                                  reply  rank split  \\\n",
       "0     Ocenjevanje natančne verjetnosti, da imajo vse...     0  test   \n",
       "1         Vedno z veseljem pomagamo! Vas zanima še kaj?     0  test   \n",
       "2     prosim!\\nV veselje mi je bilo pomagati vam. Ve...     1  test   \n",
       "3           Z veseljem pomagam! Ali potrebujete še kaj?     2  test   \n",
       "4     Geometrični pomen odvoda je, da pokaže, kako h...     0  test   \n",
       "...                                                 ...   ...   ...   \n",
       "4870  Elektronski seti bobnov so na splošno tišji od...     0  test   \n",
       "4871  To je odvisno od seta bobnov, ki ga trenutno u...     1  test   \n",
       "4872  Pod komplet lahko poskusite postaviti izolacij...     2  test   \n",
       "4873  Da, obstaja več načinov, kako to popraviti.\\n\\...     0  test   \n",
       "4874  Težava, da udarec pobegne, je precej pogosta p...     1  test   \n",
       "\n",
       "                                              generated  token_prediction_len  \n",
       "0     Verjetnost, da imajo vse lastne vrednosti matr...                    59  \n",
       "1                                            Ni za kaj!                     5  \n",
       "2                                            Ni za kaj!                     5  \n",
       "3                                            Ni za kaj!                     5  \n",
       "4     Da, geometrijski pomen izpeljanke je matematič...                    69  \n",
       "...                                                 ...                   ...  \n",
       "4870  Seveda, tukaj je nekaj elektronskih setov bobn...                   100  \n",
       "4871  Seveda, tukaj je nekaj elektronskih setov bobn...                   100  \n",
       "4872  Seveda, tukaj je nekaj nasvetov, ki jih lahko ...                    78  \n",
       "4873  Seveda, tukaj je nekaj možnih rešitev, ki jih ...                   126  \n",
       "4874  Seveda, tukaj je nekaj možnih rešitev, ki jih ...                   126  \n",
       "\n",
       "[4875 rows x 6 columns]"
      ]
     },
     "execution_count": 24,
     "metadata": {},
     "output_type": "execute_result"
    }
   ],
   "source": [
    "# just append the results and save\n",
    "result_data = pd.read_csv(data_path_pairs, sep=\";\")\n",
    "result_data = result_data[result_data['split'] == split].reset_index(drop=True)\n",
    "result_data[\"generated\"] = results\n",
    "result_data[\"token_prediction_len\"] = prediction_lens\n",
    "result_data.to_csv(f\"../../data/t5_results/prompt_reply_pairs_generated_{model_name}.csv\", sep=\";\", index=False)\n",
    "result_data"
   ]
  },
  {
   "cell_type": "code",
   "execution_count": 25,
   "metadata": {},
   "outputs": [
    {
     "data": {
      "text/html": [
       "<div>\n",
       "<style scoped>\n",
       "    .dataframe tbody tr th:only-of-type {\n",
       "        vertical-align: middle;\n",
       "    }\n",
       "\n",
       "    .dataframe tbody tr th {\n",
       "        vertical-align: top;\n",
       "    }\n",
       "\n",
       "    .dataframe thead th {\n",
       "        text-align: right;\n",
       "    }\n",
       "</style>\n",
       "<table border=\"1\" class=\"dataframe\">\n",
       "  <thead>\n",
       "    <tr style=\"text-align: right;\">\n",
       "      <th></th>\n",
       "      <th>prompt</th>\n",
       "      <th>generated</th>\n",
       "    </tr>\n",
       "  </thead>\n",
       "  <tbody>\n",
       "    <tr>\n",
       "      <th>0</th>\n",
       "      <td>Vzemimo naključno matriko $n\\krat n$ z realnim...</td>\n",
       "      <td>Verjetnost, da imajo vse lastne vrednosti matr...</td>\n",
       "    </tr>\n",
       "    <tr>\n",
       "      <th>1</th>\n",
       "      <td>Hvala vam! Jasno mi je</td>\n",
       "      <td>Ni za kaj!</td>\n",
       "    </tr>\n",
       "    <tr>\n",
       "      <th>4</th>\n",
       "      <td>Kakšen je geometrijski pomen izpeljanke?</td>\n",
       "      <td>Da, geometrijski pomen izpeljanke je matematič...</td>\n",
       "    </tr>\n",
       "    <tr>\n",
       "      <th>7</th>\n",
       "      <td>Recimo, da je samovozeči avto v situaciji, ko ...</td>\n",
       "      <td>Seveda, tukaj je primer, kako programirati sam...</td>\n",
       "    </tr>\n",
       "    <tr>\n",
       "      <th>10</th>\n",
       "      <td>Želim pripraviti pico s feferoni, mi lahko nav...</td>\n",
       "      <td>Tukaj je nekaj korakov, ki jih lahko naredite ...</td>\n",
       "    </tr>\n",
       "    <tr>\n",
       "      <th>...</th>\n",
       "      <td>...</td>\n",
       "      <td>...</td>\n",
       "    </tr>\n",
       "    <tr>\n",
       "      <th>4863</th>\n",
       "      <td>Mi lahko poveste več informacij o Franciscu Mo...</td>\n",
       "      <td>Francisco Morazán je bil francoski fizik in ma...</td>\n",
       "    </tr>\n",
       "    <tr>\n",
       "      <th>4866</th>\n",
       "      <td>Mi lahko poveste, kateri so glavni rezultati a...</td>\n",
       "      <td>Seveda, tukaj je nekaj glavnih rezultatov ali ...</td>\n",
       "    </tr>\n",
       "    <tr>\n",
       "      <th>4868</th>\n",
       "      <td>Imam elektronski set bobnov, a vsakič, ko igra...</td>\n",
       "      <td>Seveda, tukaj je nekaj nasvetov, ki jih lahko ...</td>\n",
       "    </tr>\n",
       "    <tr>\n",
       "      <th>4870</th>\n",
       "      <td>Hvala, bom videl, če lahko naredim te sprememb...</td>\n",
       "      <td>Seveda, tukaj je nekaj elektronskih setov bobn...</td>\n",
       "    </tr>\n",
       "    <tr>\n",
       "      <th>4873</th>\n",
       "      <td>Kadarkoli poskušam postaviti izolacijski mater...</td>\n",
       "      <td>Seveda, tukaj je nekaj možnih rešitev, ki jih ...</td>\n",
       "    </tr>\n",
       "  </tbody>\n",
       "</table>\n",
       "<p>1882 rows × 2 columns</p>\n",
       "</div>"
      ],
      "text/plain": [
       "                                                 prompt  \\\n",
       "0     Vzemimo naključno matriko $n\\krat n$ z realnim...   \n",
       "1                                Hvala vam! Jasno mi je   \n",
       "4              Kakšen je geometrijski pomen izpeljanke?   \n",
       "7     Recimo, da je samovozeči avto v situaciji, ko ...   \n",
       "10    Želim pripraviti pico s feferoni, mi lahko nav...   \n",
       "...                                                 ...   \n",
       "4863  Mi lahko poveste več informacij o Franciscu Mo...   \n",
       "4866  Mi lahko poveste, kateri so glavni rezultati a...   \n",
       "4868  Imam elektronski set bobnov, a vsakič, ko igra...   \n",
       "4870  Hvala, bom videl, če lahko naredim te sprememb...   \n",
       "4873  Kadarkoli poskušam postaviti izolacijski mater...   \n",
       "\n",
       "                                              generated  \n",
       "0     Verjetnost, da imajo vse lastne vrednosti matr...  \n",
       "1                                            Ni za kaj!  \n",
       "4     Da, geometrijski pomen izpeljanke je matematič...  \n",
       "7     Seveda, tukaj je primer, kako programirati sam...  \n",
       "10    Tukaj je nekaj korakov, ki jih lahko naredite ...  \n",
       "...                                                 ...  \n",
       "4863  Francisco Morazán je bil francoski fizik in ma...  \n",
       "4866  Seveda, tukaj je nekaj glavnih rezultatov ali ...  \n",
       "4868  Seveda, tukaj je nekaj nasvetov, ki jih lahko ...  \n",
       "4870  Seveda, tukaj je nekaj elektronskih setov bobn...  \n",
       "4873  Seveda, tukaj je nekaj možnih rešitev, ki jih ...  \n",
       "\n",
       "[1882 rows x 2 columns]"
      ]
     },
     "execution_count": 25,
     "metadata": {},
     "output_type": "execute_result"
    }
   ],
   "source": [
    "# remove the duplicate prompts (we generate the same reply but we have them because during training they have different replies)\n",
    "# also only keep the prompt and generated columns\n",
    "result_data = result_data.drop_duplicates(subset=[\"prompt\"])[[\"prompt\", \"generated\"]]\n",
    "result_data.to_csv(f\"../../data/t5_results/prompt_reply_pairs_generated_{model_name}_no_duplicates.csv\", sep=\";\", index=False)\n",
    "result_data"
   ]
  },
  {
   "cell_type": "code",
   "execution_count": 26,
   "metadata": {},
   "outputs": [
    {
     "data": {
      "text/plain": [
       "['France Prešeren je bil francoski pesnik, ki se je rodil leta 1922 v Parizu.',\n",
       " 'France Prešeren je bil francoski pesnik, ki se je rodil leta 1922 v Parizu. Bil je francoski pisatelj in pisatelj, znan po svojem delu in delu v različnih delih sveta.',\n",
       " 'France Prešeren je bil francoski pesnik, ki se je rodil leta 1922 v Parizu. Bil je francoski pisatelj in pisatelj, znan po svojem delu in delu na področju glasbe, glasbe in glasbe.',\n",
       " 'France Prešeren je bil francoski pesnik, ki se je rodil leta 1922 v Parizu. Bil je francoski pisatelj in pisatelj, znan po svojem delu in delu na področju umetnosti in umetnosti.',\n",
       " 'France Prešeren je bil francoski pesnik, ki se je rodil leta 1922 v Parizu. Bil je francoski pisatelj in pisatelj, znan po svojem delu in delu na področju glasbe, glasbe in glasbe. Znan je tudi po svojih delih, kot so pesmi, eseji, pesmi in pesmi.']"
      ]
     },
     "execution_count": 26,
     "metadata": {},
     "output_type": "execute_result"
    }
   ],
   "source": [
    "input = \"Uporabnik: Kdo je France Prešeren?\"\n",
    "input = tokenizer(input, return_tensors=\"pt\").to(\"cuda\")\n",
    "outputs = model.generate(**input, max_length=128, no_repeat_ngram_size=2, num_beams=5, num_return_sequences=5)\n",
    "tokenizer.decode(outputs[0], skip_special_tokens=True)\n",
    "tokenizer.batch_decode(outputs, skip_special_tokens=True)"
   ]
  },
  {
   "attachments": {},
   "cell_type": "markdown",
   "metadata": {},
   "source": [
    "#### Quantitative"
   ]
  },
  {
   "cell_type": "code",
   "execution_count": 27,
   "metadata": {},
   "outputs": [
    {
     "name": "stderr",
     "output_type": "stream",
     "text": [
      "C:\\Users\\Luka\\AppData\\Local\\Temp\\ipykernel_5820\\2349417202.py:1: FutureWarning: load_metric is deprecated and will be removed in the next major version of datasets. Use 'evaluate.load' instead, from the new library 🤗 Evaluate: https://huggingface.co/docs/evaluate\n",
      "  rouge = load_metric(\"rouge\")\n"
     ]
    }
   ],
   "source": [
    "rouge = load_metric(\"rouge\")\n",
    "bert = load_metric(\"bertscore\")"
   ]
  },
  {
   "cell_type": "code",
   "execution_count": 28,
   "metadata": {},
   "outputs": [],
   "source": [
    "def compute_rouge(decoded_preds, decoded_labels, prediction_lens):\n",
    "    # Rouge expects a newline after each sentence\n",
    "    decoded_preds = [\"\\n\".join(nltk.sent_tokenize(pred.strip())) for pred in decoded_preds]\n",
    "    decoded_labels = [\"\\n\".join(nltk.sent_tokenize(label.strip())) for label in decoded_labels]\n",
    "    \n",
    "    result = rouge.compute(predictions=decoded_preds, references=decoded_labels, use_stemmer=True)\n",
    "    # Extract a few results\n",
    "    result = {key: value.mid.fmeasure * 100 for key, value in result.items()}\n",
    "    \n",
    "    # Add mean generated length\n",
    "    # prediction_lens = [np.count_nonzero(pred != tokenizer.pad_token_id) for pred in predictions]\n",
    "    result[\"gen_len\"] = np.mean(prediction_lens)\n",
    "    \n",
    "    return {k: round(v, 4) for k, v in result.items()}"
   ]
  },
  {
   "cell_type": "code",
   "execution_count": 29,
   "metadata": {},
   "outputs": [
    {
     "data": {
      "text/plain": [
       "4875"
      ]
     },
     "execution_count": 29,
     "metadata": {},
     "output_type": "execute_result"
    }
   ],
   "source": [
    "labels = eval_data[\"labels\"]\n",
    "labels = np.where(labels != -100, labels, tokenizer.pad_token_id)\n",
    "decoded_labels = tokenizer.batch_decode(labels, skip_special_tokens=True)\n",
    "len(decoded_labels)"
   ]
  },
  {
   "cell_type": "code",
   "execution_count": 30,
   "metadata": {},
   "outputs": [
    {
     "data": {
      "text/plain": [
       "(4875, 4875)"
      ]
     },
     "execution_count": 30,
     "metadata": {},
     "output_type": "execute_result"
    }
   ],
   "source": [
    "# load the results obtained earlier to not have to generate them again as it takes a long time\n",
    "result_data = pd.read_csv(f\"../../data/t5_results/prompt_reply_pairs_generated_{model_name}.csv\", sep=\";\")\n",
    "decoded_preds = result_data[\"generated\"].to_list()\n",
    "prediction_lens = result_data[\"token_prediction_len\"].to_list()\n",
    "len(decoded_preds), len(prediction_lens)"
   ]
  },
  {
   "cell_type": "code",
   "execution_count": 31,
   "metadata": {},
   "outputs": [
    {
     "data": {
      "text/html": [
       "<div>\n",
       "<style scoped>\n",
       "    .dataframe tbody tr th:only-of-type {\n",
       "        vertical-align: middle;\n",
       "    }\n",
       "\n",
       "    .dataframe tbody tr th {\n",
       "        vertical-align: top;\n",
       "    }\n",
       "\n",
       "    .dataframe thead th {\n",
       "        text-align: right;\n",
       "    }\n",
       "</style>\n",
       "<table border=\"1\" class=\"dataframe\">\n",
       "  <thead>\n",
       "    <tr style=\"text-align: right;\">\n",
       "      <th></th>\n",
       "      <th>decoded_preds</th>\n",
       "      <th>decoded_labels</th>\n",
       "      <th>prediction_lens</th>\n",
       "    </tr>\n",
       "  </thead>\n",
       "  <tbody>\n",
       "    <tr>\n",
       "      <th>0</th>\n",
       "      <td>Verjetnost, da imajo vse lastne vrednosti matr...</td>\n",
       "      <td>Ocenjevanje natančne verjetnosti, da imajo vse...</td>\n",
       "      <td>59</td>\n",
       "    </tr>\n",
       "    <tr>\n",
       "      <th>1</th>\n",
       "      <td>Ni za kaj!</td>\n",
       "      <td>Vedno z veseljem pomagamo! Vas zanima še kaj?</td>\n",
       "      <td>5</td>\n",
       "    </tr>\n",
       "    <tr>\n",
       "      <th>2</th>\n",
       "      <td>Ni za kaj!</td>\n",
       "      <td>prosim! V veselje mi je bilo pomagati vam. Ved...</td>\n",
       "      <td>5</td>\n",
       "    </tr>\n",
       "    <tr>\n",
       "      <th>3</th>\n",
       "      <td>Ni za kaj!</td>\n",
       "      <td>Z veseljem pomagam! Ali potrebujete še kaj?</td>\n",
       "      <td>5</td>\n",
       "    </tr>\n",
       "    <tr>\n",
       "      <th>4</th>\n",
       "      <td>Da, geometrijski pomen izpeljanke je matematič...</td>\n",
       "      <td>Geometrični pomen odvoda je, da pokaže, kako h...</td>\n",
       "      <td>69</td>\n",
       "    </tr>\n",
       "    <tr>\n",
       "      <th>...</th>\n",
       "      <td>...</td>\n",
       "      <td>...</td>\n",
       "      <td>...</td>\n",
       "    </tr>\n",
       "    <tr>\n",
       "      <th>4870</th>\n",
       "      <td>Seveda, tukaj je nekaj elektronskih setov bobn...</td>\n",
       "      <td>Elektronski seti bobnov so na splošno tišji od...</td>\n",
       "      <td>100</td>\n",
       "    </tr>\n",
       "    <tr>\n",
       "      <th>4871</th>\n",
       "      <td>Seveda, tukaj je nekaj elektronskih setov bobn...</td>\n",
       "      <td>To je odvisno od seta bobnov, ki ga trenutno u...</td>\n",
       "      <td>100</td>\n",
       "    </tr>\n",
       "    <tr>\n",
       "      <th>4872</th>\n",
       "      <td>Seveda, tukaj je nekaj nasvetov, ki jih lahko ...</td>\n",
       "      <td>Pod komplet lahko poskusite postaviti izolacij...</td>\n",
       "      <td>78</td>\n",
       "    </tr>\n",
       "    <tr>\n",
       "      <th>4873</th>\n",
       "      <td>Seveda, tukaj je nekaj možnih rešitev, ki jih ...</td>\n",
       "      <td>Da, obstaja več načinov, kako to popraviti. Z ...</td>\n",
       "      <td>126</td>\n",
       "    </tr>\n",
       "    <tr>\n",
       "      <th>4874</th>\n",
       "      <td>Seveda, tukaj je nekaj možnih rešitev, ki jih ...</td>\n",
       "      <td>Težava, da udarec pobegne, je precej pogosta p...</td>\n",
       "      <td>126</td>\n",
       "    </tr>\n",
       "  </tbody>\n",
       "</table>\n",
       "<p>4875 rows × 3 columns</p>\n",
       "</div>"
      ],
      "text/plain": [
       "                                          decoded_preds  \\\n",
       "0     Verjetnost, da imajo vse lastne vrednosti matr...   \n",
       "1                                            Ni za kaj!   \n",
       "2                                            Ni za kaj!   \n",
       "3                                            Ni za kaj!   \n",
       "4     Da, geometrijski pomen izpeljanke je matematič...   \n",
       "...                                                 ...   \n",
       "4870  Seveda, tukaj je nekaj elektronskih setov bobn...   \n",
       "4871  Seveda, tukaj je nekaj elektronskih setov bobn...   \n",
       "4872  Seveda, tukaj je nekaj nasvetov, ki jih lahko ...   \n",
       "4873  Seveda, tukaj je nekaj možnih rešitev, ki jih ...   \n",
       "4874  Seveda, tukaj je nekaj možnih rešitev, ki jih ...   \n",
       "\n",
       "                                         decoded_labels  prediction_lens  \n",
       "0     Ocenjevanje natančne verjetnosti, da imajo vse...               59  \n",
       "1         Vedno z veseljem pomagamo! Vas zanima še kaj?                5  \n",
       "2     prosim! V veselje mi je bilo pomagati vam. Ved...                5  \n",
       "3           Z veseljem pomagam! Ali potrebujete še kaj?                5  \n",
       "4     Geometrični pomen odvoda je, da pokaže, kako h...               69  \n",
       "...                                                 ...              ...  \n",
       "4870  Elektronski seti bobnov so na splošno tišji od...              100  \n",
       "4871  To je odvisno od seta bobnov, ki ga trenutno u...              100  \n",
       "4872  Pod komplet lahko poskusite postaviti izolacij...               78  \n",
       "4873  Da, obstaja več načinov, kako to popraviti. Z ...              126  \n",
       "4874  Težava, da udarec pobegne, je precej pogosta p...              126  \n",
       "\n",
       "[4875 rows x 3 columns]"
      ]
     },
     "execution_count": 31,
     "metadata": {},
     "output_type": "execute_result"
    }
   ],
   "source": [
    "quantitative_data = pd.DataFrame({\"decoded_preds\": decoded_preds, \"decoded_labels\": decoded_labels, \"prediction_lens\": prediction_lens})\n",
    "quantitative_data"
   ]
  },
  {
   "attachments": {},
   "cell_type": "markdown",
   "metadata": {},
   "source": [
    "Compute WITH the duplicates (different replies for duplicate prompts druing training)"
   ]
  },
  {
   "cell_type": "code",
   "execution_count": 32,
   "metadata": {},
   "outputs": [
    {
     "name": "stdout",
     "output_type": "stream",
     "text": [
      "{'rouge1': 18.8014, 'rouge2': 4.5449, 'rougeL': 12.715, 'rougeLsum': 16.8048, 'gen_len': 73.3327}\n"
     ]
    }
   ],
   "source": [
    "result_rouge = compute_rouge(decoded_preds, decoded_labels, prediction_lens)\n",
    "print(result_rouge)"
   ]
  },
  {
   "cell_type": "code",
   "execution_count": 33,
   "metadata": {},
   "outputs": [
    {
     "name": "stderr",
     "output_type": "stream",
     "text": [
      "Warning: Empty reference sentence detected; setting recall to be 0.\n"
     ]
    },
    {
     "name": "stdout",
     "output_type": "stream",
     "text": [
      "{'Precision': 0.6648582091270349, 'Recall': 0.6428402618261484, 'F1': 0.6521427895717132}\n"
     ]
    }
   ],
   "source": [
    "result_bert = bert.compute(predictions=decoded_preds, references=decoded_labels, lang=\"sl\")\n",
    "result_bert = {\"Precision\": np.array(result_bert[\"precision\"]).mean(), \"Recall\": np.array(result_bert[\"recall\"]).mean(), \"F1\": np.array(result_bert[\"f1\"]).mean()}\n",
    "print(result_bert)"
   ]
  },
  {
   "attachments": {},
   "cell_type": "markdown",
   "metadata": {},
   "source": [
    "Compute WITHOUT duplicates"
   ]
  },
  {
   "cell_type": "code",
   "execution_count": 34,
   "metadata": {},
   "outputs": [
    {
     "data": {
      "text/html": [
       "<div>\n",
       "<style scoped>\n",
       "    .dataframe tbody tr th:only-of-type {\n",
       "        vertical-align: middle;\n",
       "    }\n",
       "\n",
       "    .dataframe tbody tr th {\n",
       "        vertical-align: top;\n",
       "    }\n",
       "\n",
       "    .dataframe thead th {\n",
       "        text-align: right;\n",
       "    }\n",
       "</style>\n",
       "<table border=\"1\" class=\"dataframe\">\n",
       "  <thead>\n",
       "    <tr style=\"text-align: right;\">\n",
       "      <th></th>\n",
       "      <th>decoded_preds</th>\n",
       "      <th>decoded_labels</th>\n",
       "      <th>prediction_lens</th>\n",
       "    </tr>\n",
       "  </thead>\n",
       "  <tbody>\n",
       "    <tr>\n",
       "      <th>0</th>\n",
       "      <td>Verjetnost, da imajo vse lastne vrednosti matr...</td>\n",
       "      <td>Ocenjevanje natančne verjetnosti, da imajo vse...</td>\n",
       "      <td>59</td>\n",
       "    </tr>\n",
       "    <tr>\n",
       "      <th>1</th>\n",
       "      <td>Ni za kaj!</td>\n",
       "      <td>Vedno z veseljem pomagamo! Vas zanima še kaj?</td>\n",
       "      <td>5</td>\n",
       "    </tr>\n",
       "    <tr>\n",
       "      <th>4</th>\n",
       "      <td>Da, geometrijski pomen izpeljanke je matematič...</td>\n",
       "      <td>Geometrični pomen odvoda je, da pokaže, kako h...</td>\n",
       "      <td>69</td>\n",
       "    </tr>\n",
       "    <tr>\n",
       "      <th>7</th>\n",
       "      <td>Seveda, tukaj je primer, kako programirati sam...</td>\n",
       "      <td>Avtonomni avtomobili morajo biti programirani ...</td>\n",
       "      <td>66</td>\n",
       "    </tr>\n",
       "    <tr>\n",
       "      <th>10</th>\n",
       "      <td>Tukaj je nekaj korakov, ki jih lahko naredite ...</td>\n",
       "      <td>jasno! Začnemo lahko s seznamom sestavin, ki j...</td>\n",
       "      <td>125</td>\n",
       "    </tr>\n",
       "    <tr>\n",
       "      <th>...</th>\n",
       "      <td>...</td>\n",
       "      <td>...</td>\n",
       "      <td>...</td>\n",
       "    </tr>\n",
       "    <tr>\n",
       "      <th>4863</th>\n",
       "      <td>Francisco Morazán je bil francoski fizik in ma...</td>\n",
       "      <td>Seveda! Francisco Morazán je bil honduraški vo...</td>\n",
       "      <td>99</td>\n",
       "    </tr>\n",
       "    <tr>\n",
       "      <th>4866</th>\n",
       "      <td>Seveda, tukaj je nekaj glavnih rezultatov ali ...</td>\n",
       "      <td>Poskušal je spremeniti Srednjo Ameriko v velik...</td>\n",
       "      <td>110</td>\n",
       "    </tr>\n",
       "    <tr>\n",
       "      <th>4868</th>\n",
       "      <td>Seveda, tukaj je nekaj nasvetov, ki jih lahko ...</td>\n",
       "      <td>Obstaja več stvari, s katerimi lahko poskusite...</td>\n",
       "      <td>78</td>\n",
       "    </tr>\n",
       "    <tr>\n",
       "      <th>4870</th>\n",
       "      <td>Seveda, tukaj je nekaj elektronskih setov bobn...</td>\n",
       "      <td>Elektronski seti bobnov so na splošno tišji od...</td>\n",
       "      <td>100</td>\n",
       "    </tr>\n",
       "    <tr>\n",
       "      <th>4873</th>\n",
       "      <td>Seveda, tukaj je nekaj možnih rešitev, ki jih ...</td>\n",
       "      <td>Da, obstaja več načinov, kako to popraviti. Z ...</td>\n",
       "      <td>126</td>\n",
       "    </tr>\n",
       "  </tbody>\n",
       "</table>\n",
       "<p>1838 rows × 3 columns</p>\n",
       "</div>"
      ],
      "text/plain": [
       "                                          decoded_preds  \\\n",
       "0     Verjetnost, da imajo vse lastne vrednosti matr...   \n",
       "1                                            Ni za kaj!   \n",
       "4     Da, geometrijski pomen izpeljanke je matematič...   \n",
       "7     Seveda, tukaj je primer, kako programirati sam...   \n",
       "10    Tukaj je nekaj korakov, ki jih lahko naredite ...   \n",
       "...                                                 ...   \n",
       "4863  Francisco Morazán je bil francoski fizik in ma...   \n",
       "4866  Seveda, tukaj je nekaj glavnih rezultatov ali ...   \n",
       "4868  Seveda, tukaj je nekaj nasvetov, ki jih lahko ...   \n",
       "4870  Seveda, tukaj je nekaj elektronskih setov bobn...   \n",
       "4873  Seveda, tukaj je nekaj možnih rešitev, ki jih ...   \n",
       "\n",
       "                                         decoded_labels  prediction_lens  \n",
       "0     Ocenjevanje natančne verjetnosti, da imajo vse...               59  \n",
       "1         Vedno z veseljem pomagamo! Vas zanima še kaj?                5  \n",
       "4     Geometrični pomen odvoda je, da pokaže, kako h...               69  \n",
       "7     Avtonomni avtomobili morajo biti programirani ...               66  \n",
       "10    jasno! Začnemo lahko s seznamom sestavin, ki j...              125  \n",
       "...                                                 ...              ...  \n",
       "4863  Seveda! Francisco Morazán je bil honduraški vo...               99  \n",
       "4866  Poskušal je spremeniti Srednjo Ameriko v velik...              110  \n",
       "4868  Obstaja več stvari, s katerimi lahko poskusite...               78  \n",
       "4870  Elektronski seti bobnov so na splošno tišji od...              100  \n",
       "4873  Da, obstaja več načinov, kako to popraviti. Z ...              126  \n",
       "\n",
       "[1838 rows x 3 columns]"
      ]
     },
     "metadata": {},
     "output_type": "display_data"
    }
   ],
   "source": [
    "quantitative_data = quantitative_data.drop_duplicates(subset=[\"decoded_preds\"])\n",
    "display(quantitative_data)\n",
    "decoded_preds = quantitative_data[\"decoded_preds\"].to_list()\n",
    "decoded_labels = quantitative_data[\"decoded_labels\"].to_list()\n",
    "prediction_lens = quantitative_data[\"prediction_lens\"].to_list()"
   ]
  },
  {
   "cell_type": "code",
   "execution_count": 35,
   "metadata": {},
   "outputs": [
    {
     "name": "stdout",
     "output_type": "stream",
     "text": [
      "{'rouge1': 20.134, 'rouge2': 4.9416, 'rougeL': 13.3435, 'rougeLsum': 18.0007, 'gen_len': 75.2274}\n"
     ]
    }
   ],
   "source": [
    "result_rouge = compute_rouge(decoded_preds, decoded_labels, prediction_lens)\n",
    "print(result_rouge)"
   ]
  },
  {
   "cell_type": "code",
   "execution_count": 36,
   "metadata": {},
   "outputs": [
    {
     "name": "stdout",
     "output_type": "stream",
     "text": [
      "{'Precision': 0.6723396635905183, 'Recall': 0.6401780129160014, 'F1': 0.654747401588111}\n"
     ]
    }
   ],
   "source": [
    "result_bert = bert.compute(predictions=decoded_preds, references=decoded_labels, lang=\"sl\")\n",
    "result_bert = {\"Precision\": np.array(result_bert[\"precision\"]).mean(), \"Recall\": np.array(result_bert[\"recall\"]).mean(), \"F1\": np.array(result_bert[\"f1\"]).mean()}\n",
    "print(result_bert)"
   ]
  }
 ],
 "metadata": {
  "kernelspec": {
   "display_name": "NLP",
   "language": "python",
   "name": "python3"
  },
  "language_info": {
   "codemirror_mode": {
    "name": "ipython",
    "version": 3
   },
   "file_extension": ".py",
   "mimetype": "text/x-python",
   "name": "python",
   "nbconvert_exporter": "python",
   "pygments_lexer": "ipython3",
   "version": "3.11.3"
  },
  "orig_nbformat": 4
 },
 "nbformat": 4,
 "nbformat_minor": 2
}

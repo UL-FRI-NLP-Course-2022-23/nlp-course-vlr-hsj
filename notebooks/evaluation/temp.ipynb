{
 "cells": [
  {
   "cell_type": "code",
   "execution_count": 1,
   "metadata": {},
   "outputs": [],
   "source": [
    "import pandas as pd"
   ]
  },
  {
   "cell_type": "code",
   "execution_count": 3,
   "metadata": {},
   "outputs": [],
   "source": [
    "data = pd.read_csv(\"../../data/t5_results/prompt_reply_pairs_generated_t5-sl-small-finetuned-assistant_no_duplicates.csv\", sep=\";\")"
   ]
  },
  {
   "cell_type": "code",
   "execution_count": 4,
   "metadata": {},
   "outputs": [
    {
     "data": {
      "text/html": [
       "<div>\n",
       "<style scoped>\n",
       "    .dataframe tbody tr th:only-of-type {\n",
       "        vertical-align: middle;\n",
       "    }\n",
       "\n",
       "    .dataframe tbody tr th {\n",
       "        vertical-align: top;\n",
       "    }\n",
       "\n",
       "    .dataframe thead th {\n",
       "        text-align: right;\n",
       "    }\n",
       "</style>\n",
       "<table border=\"1\" class=\"dataframe\">\n",
       "  <thead>\n",
       "    <tr style=\"text-align: right;\">\n",
       "      <th></th>\n",
       "      <th>prompt</th>\n",
       "      <th>generated</th>\n",
       "    </tr>\n",
       "  </thead>\n",
       "  <tbody>\n",
       "    <tr>\n",
       "      <th>0</th>\n",
       "      <td>Vzemimo naključno matriko $n\\krat n$ z realnimi elementi, od katerih je vsak element izbran neodvisno od drugih iz standardne normalne porazdelitve. Kako oceniti verjetnost, da imajo vse lastne vrednosti te matrike pozitiven realni del? Kakšno je asimptotično obnašanje te verjetnosti, ko $n$ teži k neskončnosti?</td>\n",
       "      <td>Verjetnost, da imajo vse lastne vrednosti matrike pozitiven realni del, je odvisna od več dejavnikov, kot so vrsta matrike, velikost matrike in število elementov. Na primer, če je matrika $n\\krat n$ pozitivna, potem je verjetnost, ki jo je mogoče izračunati, enaka nič.</td>\n",
       "    </tr>\n",
       "    <tr>\n",
       "      <th>1</th>\n",
       "      <td>Hvala vam! Jasno mi je</td>\n",
       "      <td>Ni za kaj!</td>\n",
       "    </tr>\n",
       "    <tr>\n",
       "      <th>2</th>\n",
       "      <td>Kakšen je geometrijski pomen izpeljanke?</td>\n",
       "      <td>Da, geometrijski pomen izpeljanke je matematični pomen, ki ga je mogoče razložiti z geometrijskim pomenom izpeljank. V geometrijskem pomenu je izpeljanka sestavljena iz dveh delov: trikotnika, kvadrata in kvadratne oblike. To pomeni, da je trikotnik pravokoten na pravokotno obliko, medtem ko je kvadrat pravokotnik.</td>\n",
       "    </tr>\n",
       "    <tr>\n",
       "      <th>3</th>\n",
       "      <td>Recimo, da je samovozeči avto v situaciji, ko sta dve možnosti: povoziti starca in rešiti otroka ali povoziti otroka, da bi rešil starca, kako naj bo avto programiran?</td>\n",
       "      <td>Seveda, tukaj je primer, kako programirati samovozeči avto v situaciji, ko sta dve možnosti: povoziti starca in rešiti otroka, da bi rešil otroka. To je lahko odvisno od tega, ali je avto vozen ali ne. Če je to mogoče, ga lahko uporabite za reševanje otroka in reševanje otrok.</td>\n",
       "    </tr>\n",
       "    <tr>\n",
       "      <th>4</th>\n",
       "      <td>Želim pripraviti pico s feferoni, mi lahko navedete korake za pripravo?</td>\n",
       "      <td>Tukaj je nekaj korakov, ki jih lahko naredite za pripravo pice s feferoni: 1. Sestavine: 1/2 skodelice oljčnega olja 1 skodelica vode 2 čajni žlički soli 1 čajna žlička soli 2 žlici olivnega olja 2 stroka česna 1/4 čajne žličke soli 3 žlice olja Sol in poper po okusu 1 žlica soli Navodila: Priprava: V ponvi segrejte ponev, da se zmehčate in zmešajte, dokler ne dobite dovolj vode. 2. V veliki skledi zmešamo moko, sol in sol. 3. Dodamo moko in moko. 4.</td>\n",
       "    </tr>\n",
       "    <tr>\n",
       "      <th>...</th>\n",
       "      <td>...</td>\n",
       "      <td>...</td>\n",
       "    </tr>\n",
       "    <tr>\n",
       "      <th>1877</th>\n",
       "      <td>Mi lahko poveste več informacij o Franciscu Morazánu?</td>\n",
       "      <td>Francisco Morazán je bil francoski fizik in matematik, ki je študiral na Univerzi v Kaliforniji. Znan je po svojem delu o matematiki in fiziki, vključno z matematičnimi in filozofskimi teorijami, kot so matematika, fizika, kemija, biologija, astronomija, geologija in geografija. Bil je znan po svoji teoriji in teoriji relativnosti, kar pomeni, da se je ukvarjal z matematiko, fiziko, matematiko in astronomijo.</td>\n",
       "    </tr>\n",
       "    <tr>\n",
       "      <th>1878</th>\n",
       "      <td>Mi lahko poveste, kateri so glavni rezultati ali podvigi, ki ste jih dosegli? Hvala vam.</td>\n",
       "      <td>Seveda, tukaj je nekaj glavnih rezultatov ali podvigov, ki ste jih dosegli: 1. Izboljšajte svoje sposobnosti: Izboljšajte svoje zmožnosti in sposobnosti, da izboljšate svojo učinkovitost in učinkovitost. 2. Povejte mi, kako vam lahko pomagam pri tem. 3. Povežite svoje znanje in izkušnje: Poskusite izboljšati svoje veščine in veščine. 4. Izboljšati svojo produktivnost in produktivnost. 5. Izboljšanje produktivnosti: Zmanjšajte stroške in zmanjšajte tveganje za poškodbe in poškodbe. 6. Izboljšali boste svoje spretnosti in spretnosti, kar vam bo pomagalo izboljšati vaše sposobnosti.</td>\n",
       "    </tr>\n",
       "    <tr>\n",
       "      <th>1879</th>\n",
       "      <td>Imam elektronski set bobnov, a vsakič, ko igram, se moja mama pritožuje, da jo spodaj moti tresljaje. Kaj naj naredim, da bo manj vibriral?</td>\n",
       "      <td>Seveda, tukaj je nekaj nasvetov, ki jih lahko storite, da zmanjšate tresljaje: 1. Preverite, ali se vaša mama počuti nelagodno in se počuti neprijetno. To lahko pomaga zmanjšati tresenje. 2. Prepričajte se, če je vaš partner zaskrbljen. 3. Poskusite se pogovoriti z zdravnikom. 4. Pogovorite se s strokovnjakom za bobnove.</td>\n",
       "    </tr>\n",
       "    <tr>\n",
       "      <th>1880</th>\n",
       "      <td>Hvala, bom videl, če lahko naredim te spremembe. Slišal sem, da obstaja nekaj elektronskih setov bobnov, ki so zasnovani tako, da so tišji. Je to nekaj, kar bi potencialno lahko dodal svojemu obstoječemu kompletu, ali bi moral kupiti povsem novo nastavitev bobnov?</td>\n",
       "      <td>Seveda, tukaj je nekaj elektronskih setov bobnov, ki so zasnovani tako, da so tišji. Tukaj je primer, kako lahko to storite: 1. Nastavite svoje bobne in jih namestite v svoj komplet. 2. Ustvarite nov komplet, kot so bobnanje, in ustvarite novo konfiguracijo. 3. Uporabite nov set, tako da boste lahko nastavili novo nastavitev. 4. Napišite svoj set. 5. Izvedite, kaj želite narediti.</td>\n",
       "    </tr>\n",
       "    <tr>\n",
       "      <th>1881</th>\n",
       "      <td>Kadarkoli poskušam postaviti izolacijski material pod svoje bobne, se odmaknejo od mene, ko igram nanje. Ali obstaja način, da to popravim, da dobim zvočno izolacijo, ki jo očitno potrebujem, ne da bi se moji bobni odmaknili od mene, ko igram?\\n\\nJasno oblikujte svoj odgovor, navedite več rešitev in razmišljajte korak za korakom.</td>\n",
       "      <td>Seveda, tukaj je nekaj možnih rešitev, ki jih lahko uporabite za izboljšanje zvočne izolacije, ne da bi se vaši bobni odmaknili od mene, ko igrate na vašem bobnih: 1. Izogibajte se zvočnim izolacijam: Če želite namestiti zvočno izolacijo pod vaše bobne, je pomembno, da ste pozorni na to, kako se bo vaš boben odmaknil od vašega bobna. 2. Odstranite zvočni izolacijski material in ga odstranite. To lahko storite z uporabo zvočnega izolacijskega materiala, kot je zvočna izolacija. 3. Zamenjajte zvočno izolacijo z zvočnimi izolacijami, tako da</td>\n",
       "    </tr>\n",
       "  </tbody>\n",
       "</table>\n",
       "<p>1882 rows × 2 columns</p>\n",
       "</div>"
      ],
      "text/plain": [
       "                                                                                                                                                                                                                                                                                                                                           prompt  \\\n",
       "0                       Vzemimo naključno matriko $n\\krat n$ z realnimi elementi, od katerih je vsak element izbran neodvisno od drugih iz standardne normalne porazdelitve. Kako oceniti verjetnost, da imajo vse lastne vrednosti te matrike pozitiven realni del? Kakšno je asimptotično obnašanje te verjetnosti, ko $n$ teži k neskončnosti?   \n",
       "1                                                                                                                                                                                                                                                                                                                          Hvala vam! Jasno mi je   \n",
       "2                                                                                                                                                                                                                                                                                                        Kakšen je geometrijski pomen izpeljanke?   \n",
       "3                                                                                                                                                                         Recimo, da je samovozeči avto v situaciji, ko sta dve možnosti: povoziti starca in rešiti otroka ali povoziti otroka, da bi rešil starca, kako naj bo avto programiran?   \n",
       "4                                                                                                                                                                                                                                                                         Želim pripraviti pico s feferoni, mi lahko navedete korake za pripravo?   \n",
       "...                                                                                                                                                                                                                                                                                                                                           ...   \n",
       "1877                                                                                                                                                                                                                                                                                        Mi lahko poveste več informacij o Franciscu Morazánu?   \n",
       "1878                                                                                                                                                                                                                                                     Mi lahko poveste, kateri so glavni rezultati ali podvigi, ki ste jih dosegli? Hvala vam.   \n",
       "1879                                                                                                                                                                                                  Imam elektronski set bobnov, a vsakič, ko igram, se moja mama pritožuje, da jo spodaj moti tresljaje. Kaj naj naredim, da bo manj vibriral?   \n",
       "1880                                                                     Hvala, bom videl, če lahko naredim te spremembe. Slišal sem, da obstaja nekaj elektronskih setov bobnov, ki so zasnovani tako, da so tišji. Je to nekaj, kar bi potencialno lahko dodal svojemu obstoječemu kompletu, ali bi moral kupiti povsem novo nastavitev bobnov?   \n",
       "1881  Kadarkoli poskušam postaviti izolacijski material pod svoje bobne, se odmaknejo od mene, ko igram nanje. Ali obstaja način, da to popravim, da dobim zvočno izolacijo, ki jo očitno potrebujem, ne da bi se moji bobni odmaknili od mene, ko igram?\\n\\nJasno oblikujte svoj odgovor, navedite več rešitev in razmišljajte korak za korakom.   \n",
       "\n",
       "                                                                                                                                                                                                                                                                                                                                                                                                                                                                                                                                                                                                       generated  \n",
       "0                                                                                                                                                                                                                                                                                                                                  Verjetnost, da imajo vse lastne vrednosti matrike pozitiven realni del, je odvisna od več dejavnikov, kot so vrsta matrike, velikost matrike in število elementov. Na primer, če je matrika $n\\krat n$ pozitivna, potem je verjetnost, ki jo je mogoče izračunati, enaka nič.  \n",
       "1                                                                                                                                                                                                                                                                                                                                                                                                                                                                                                                                                                                                     Ni za kaj!  \n",
       "2                                                                                                                                                                                                                                                                                   Da, geometrijski pomen izpeljanke je matematični pomen, ki ga je mogoče razložiti z geometrijskim pomenom izpeljank. V geometrijskem pomenu je izpeljanka sestavljena iz dveh delov: trikotnika, kvadrata in kvadratne oblike. To pomeni, da je trikotnik pravokoten na pravokotno obliko, medtem ko je kvadrat pravokotnik.  \n",
       "3                                                                                                                                                                                                                                                                                                                          Seveda, tukaj je primer, kako programirati samovozeči avto v situaciji, ko sta dve možnosti: povoziti starca in rešiti otroka, da bi rešil otroka. To je lahko odvisno od tega, ali je avto vozen ali ne. Če je to mogoče, ga lahko uporabite za reševanje otroka in reševanje otrok.  \n",
       "4                                                                                                                                         Tukaj je nekaj korakov, ki jih lahko naredite za pripravo pice s feferoni: 1. Sestavine: 1/2 skodelice oljčnega olja 1 skodelica vode 2 čajni žlički soli 1 čajna žlička soli 2 žlici olivnega olja 2 stroka česna 1/4 čajne žličke soli 3 žlice olja Sol in poper po okusu 1 žlica soli Navodila: Priprava: V ponvi segrejte ponev, da se zmehčate in zmešajte, dokler ne dobite dovolj vode. 2. V veliki skledi zmešamo moko, sol in sol. 3. Dodamo moko in moko. 4.  \n",
       "...                                                                                                                                                                                                                                                                                                                                                                                                                                                                                                                                                                                                          ...  \n",
       "1877                                                                                                                                                                                Francisco Morazán je bil francoski fizik in matematik, ki je študiral na Univerzi v Kaliforniji. Znan je po svojem delu o matematiki in fiziki, vključno z matematičnimi in filozofskimi teorijami, kot so matematika, fizika, kemija, biologija, astronomija, geologija in geografija. Bil je znan po svoji teoriji in teoriji relativnosti, kar pomeni, da se je ukvarjal z matematiko, fiziko, matematiko in astronomijo.  \n",
       "1878  Seveda, tukaj je nekaj glavnih rezultatov ali podvigov, ki ste jih dosegli: 1. Izboljšajte svoje sposobnosti: Izboljšajte svoje zmožnosti in sposobnosti, da izboljšate svojo učinkovitost in učinkovitost. 2. Povejte mi, kako vam lahko pomagam pri tem. 3. Povežite svoje znanje in izkušnje: Poskusite izboljšati svoje veščine in veščine. 4. Izboljšati svojo produktivnost in produktivnost. 5. Izboljšanje produktivnosti: Zmanjšajte stroške in zmanjšajte tveganje za poškodbe in poškodbe. 6. Izboljšali boste svoje spretnosti in spretnosti, kar vam bo pomagalo izboljšati vaše sposobnosti.  \n",
       "1879                                                                                                                                                                                                                                                                          Seveda, tukaj je nekaj nasvetov, ki jih lahko storite, da zmanjšate tresljaje: 1. Preverite, ali se vaša mama počuti nelagodno in se počuti neprijetno. To lahko pomaga zmanjšati tresenje. 2. Prepričajte se, če je vaš partner zaskrbljen. 3. Poskusite se pogovoriti z zdravnikom. 4. Pogovorite se s strokovnjakom za bobnove.  \n",
       "1880                                                                                                                                                                                                             Seveda, tukaj je nekaj elektronskih setov bobnov, ki so zasnovani tako, da so tišji. Tukaj je primer, kako lahko to storite: 1. Nastavite svoje bobne in jih namestite v svoj komplet. 2. Ustvarite nov komplet, kot so bobnanje, in ustvarite novo konfiguracijo. 3. Uporabite nov set, tako da boste lahko nastavili novo nastavitev. 4. Napišite svoj set. 5. Izvedite, kaj želite narediti.  \n",
       "1881                                            Seveda, tukaj je nekaj možnih rešitev, ki jih lahko uporabite za izboljšanje zvočne izolacije, ne da bi se vaši bobni odmaknili od mene, ko igrate na vašem bobnih: 1. Izogibajte se zvočnim izolacijam: Če želite namestiti zvočno izolacijo pod vaše bobne, je pomembno, da ste pozorni na to, kako se bo vaš boben odmaknil od vašega bobna. 2. Odstranite zvočni izolacijski material in ga odstranite. To lahko storite z uporabo zvočnega izolacijskega materiala, kot je zvočna izolacija. 3. Zamenjajte zvočno izolacijo z zvočnimi izolacijami, tako da  \n",
       "\n",
       "[1882 rows x 2 columns]"
      ]
     },
     "metadata": {},
     "output_type": "display_data"
    }
   ],
   "source": [
    "with pd.option_context('display.max_colwidth', None):\n",
    "    display(data)"
   ]
  }
 ],
 "metadata": {
  "kernelspec": {
   "display_name": "NLP",
   "language": "python",
   "name": "python3"
  },
  "language_info": {
   "codemirror_mode": {
    "name": "ipython",
    "version": 3
   },
   "file_extension": ".py",
   "mimetype": "text/x-python",
   "name": "python",
   "nbconvert_exporter": "python",
   "pygments_lexer": "ipython3",
   "version": "3.11.3"
  },
  "orig_nbformat": 4
 },
 "nbformat": 4,
 "nbformat_minor": 2
}

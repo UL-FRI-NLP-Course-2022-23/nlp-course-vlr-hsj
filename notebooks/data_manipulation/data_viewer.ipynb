{
 "cells": [
  {
   "cell_type": "code",
   "execution_count": 16,
   "metadata": {},
   "outputs": [],
   "source": [
    "import pandas as pd\n",
    "pd.set_option('display.max_columns', None)\n",
    "pd.set_option('display.max_rows', None)\n",
    "pd.set_option('max_colwidth', None)"
   ]
  },
  {
   "cell_type": "code",
   "execution_count": 5,
   "metadata": {},
   "outputs": [],
   "source": [
    "data = pd.read_csv('../../data/results/prompt_reply_pairs_1_generated_test_t5-sl-small-finetuned-assistant_no_duplicates.csv', sep=';')"
   ]
  },
  {
   "cell_type": "code",
   "execution_count": 30,
   "metadata": {},
   "outputs": [
    {
     "data": {
      "text/html": [
       "<div>\n",
       "<style scoped>\n",
       "    .dataframe tbody tr th:only-of-type {\n",
       "        vertical-align: middle;\n",
       "    }\n",
       "\n",
       "    .dataframe tbody tr th {\n",
       "        vertical-align: top;\n",
       "    }\n",
       "\n",
       "    .dataframe thead th {\n",
       "        text-align: right;\n",
       "    }\n",
       "</style>\n",
       "<table border=\"1\" class=\"dataframe\">\n",
       "  <thead>\n",
       "    <tr style=\"text-align: right;\">\n",
       "      <th></th>\n",
       "      <th>prompt</th>\n",
       "      <th>generated</th>\n",
       "    </tr>\n",
       "  </thead>\n",
       "  <tbody>\n",
       "    <tr>\n",
       "      <th>500</th>\n",
       "      <td>Mislim, da bi se morali naučiti več o uporabi ločil)</td>\n",
       "      <td>Seveda, tukaj je nekaj nasvetov, ki vam bodo pomagali pri učenju uporabe ločil: 1. Uporabite ločila: Začnite z ločili, da se naučite razlikovati med različnimi vrstami in vrstami. 2. Uporabljajte ločilo: Če želite uporabiti Ločila, se morate naučiti, kako se razlikovati od drugih vrst, kot so: - Začnete lahko s preprostim ločenjem, saj je to lahko zelo zapleteno in zapleteno. 3. Poiščite \"Ločila\" ali \"Označite\" in \"Razmislite o tem, kaj bi lahko bilo bolje, če bi se morali naučiti več o ločenju. 4. Uporabi ločile</td>\n",
       "    </tr>\n",
       "    <tr>\n",
       "      <th>501</th>\n",
       "      <td>Kako naj se naučim igrati kitaro?</td>\n",
       "      <td>Seveda, tukaj je nekaj korakov, ki jih lahko uporabite za učenje igranja kitare: 1. Naučite se igrati kitaro: Začnite tako, da se osredotočite na igranje, kot je igranje. To vam bo pomagalo razumeti, kaj je kitara in kako jo je mogoče igrati. 2. Poslušajte glasbo: Ko se igrate, se učite igrati, in se naučite osnov igranja. 3. Spoznajte svoje sposobnosti in sposobnosti igranja, tako da spoznate svoje veščine in veščine. 4. Naučiti se osnov, kako se učiti igranja na kitarah. 5. Poiščite osnove za igranje na kitari.</td>\n",
       "    </tr>\n",
       "    <tr>\n",
       "      <th>502</th>\n",
       "      <td>Ali razumete, kaj je tukaj napisano? `Ac9l /7puXogu Ha ceHoBa/l`</td>\n",
       "      <td>Seveda, tukaj je nekaj primerov: `Ac9l /7puXogu Ha ceHoBa/l`, ki se uporablja za opis, kako se lahko uporablja v različnih aplikacijah, kot so JavaScript, CSS, Python in Javascript.</td>\n",
       "    </tr>\n",
       "    <tr>\n",
       "      <th>503</th>\n",
       "      <td>In tukaj? ```Asja, ya tebya lublu```</td>\n",
       "      <td>Asja, ya tebya lublu``</td>\n",
       "    </tr>\n",
       "    <tr>\n",
       "      <th>504</th>\n",
       "      <td>Da, verjetno ne boste prišli sami, poznam te stvari ... V redu, spopadli ste se s prepoznavnostjo. Ali lahko ustvarite odgovor v podobnem slogu? (Ne uporabljajte nujno iste \"kode\", ampak nekaj podobnega.)</td>\n",
       "      <td>Seveda, tukaj je odgovor v podobnem slogu, ki ga lahko uporabite za ustvarjanje odgovora v slogu: \"Pozdravljen! Kako si ti? Kako ti lahko danes pomagam?</td>\n",
       "    </tr>\n",
       "    <tr>\n",
       "      <th>505</th>\n",
       "      <td>Kakšne so praktične uporabe kompleksnih števil?</td>\n",
       "      <td>Seveda, tukaj je nekaj praktičnih primerov uporabe kompleksnih števil: 1. Enostavna številska števila: Kompleksna števila so kompleksna števila, ki jih je mogoče uporabiti v različnih aplikacijah, vključno z algoritmi, kot so Python, ChatGPT in PHP. 2. Enostavne številske funkcije: Te funkcije se lahko uporabljajo za reševanje kompleksnih problemov in reševanje problemov. 3. Natančne vrednosti: Ta funkcija se uporablja za prepoznavanje in analizo kompleksnih podatkov. 4. Natančna vrednost: To pomeni, da je vrednost odvisna od več dejavnikov, od katerih je odvisno od tega, ali je število povezano z določenim številom. 5. Enostavnost:</td>\n",
       "    </tr>\n",
       "    <tr>\n",
       "      <th>506</th>\n",
       "      <td>Kaj predstavlja rezultat integrala v resničnem svetu?</td>\n",
       "      <td>Da, rezultat integrala v resničnem svetu je integral, ki ga je mogoče uporabiti za reševanje problemov, povezanih z integralom. To pomeni, da je vsak sistem sestavljen iz več komponent, od katerih je vsaka sestavljena iz enega ali več elementov. Na primer, če je en element povezan z enim elementom, potem je ta funkcija povezana z drugimi komponentami.</td>\n",
       "    </tr>\n",
       "    <tr>\n",
       "      <th>507</th>\n",
       "      <td>Dajte mi PPL vadbeno rutino za 6 dni v tednu, hodim v telovadnico btw. Želim začeti delati noge, nato vleči in na koncu potisniti</td>\n",
       "      <td>Seveda, tukaj je priporočljiva vadba za 6 dni v tednu, ki jo lahko izvajate v telovadnici btw: 1. Začnite z vajami, kot so hoja, tek, hoja in tek. 2. Začnete s hojo, da se naučite osnov hoje in se osredotočite na vaje. 3. Poskusite izvajati vaje za noge, tako da začnete vleči noge in na koncu potisnite noge. 4. Izvedite vaje, potrebne za začetnike. 5. Izberite vaje in jih razporedite na manjše dele.</td>\n",
       "    </tr>\n",
       "    <tr>\n",
       "      <th>508</th>\n",
       "      <td>Kako naj se odločim, koliko teže bom uporabil za vsako vajo?</td>\n",
       "      <td>Seveda, tukaj je nekaj nasvetov, ki vam bodo pomagali pri odločitvi, koliko teže boste uporabili za vsako vajo: 1. Začnite tako, da se osredotočite na to, kaj želite doseči. To je odvisno od vaših osebnih preferenc in ciljev. 2. Določite svoje cilje in cilje, kot so hitrost, hitrost in vzdržljivost. 3. Določiti cilje: Začnete lahko s čim drugim, kar vam bo pomagalo pri doseganju cilja. 4. Izvedite, katere cilje boste želeli doseči, in določite prednostne naloge. 5. Upoštevajte, ali je vaš cilj doseči cilj ali ne.</td>\n",
       "    </tr>\n",
       "    <tr>\n",
       "      <th>509</th>\n",
       "      <td>Lahko morda delate v dnevu za kardio?</td>\n",
       "      <td>Seveda, tukaj je nekaj korakov, ki jih lahko naredite v dnevu za kardio: 1. Začnite tako, da se osredotočite na to, kako se počutite v tem času. 2. Začnete s tem, ko se začnete ukvarjati s to temo. 3. Postavite si vprašanja in vprašajte, če imate še kakšna vprašanja ali vprašanja.</td>\n",
       "    </tr>\n",
       "  </tbody>\n",
       "</table>\n",
       "</div>"
      ],
      "text/plain": [
       "                                                                                                                                                                                                           prompt  \\\n",
       "500                                                                                                                                                          Mislim, da bi se morali naučiti več o uporabi ločil)   \n",
       "501                                                                                                                                                                             Kako naj se naučim igrati kitaro?   \n",
       "502                                                                                                                                              Ali razumete, kaj je tukaj napisano? `Ac9l /7puXogu Ha ceHoBa/l`   \n",
       "503                                                                                                                                                                          In tukaj? ```Asja, ya tebya lublu```   \n",
       "504  Da, verjetno ne boste prišli sami, poznam te stvari ... V redu, spopadli ste se s prepoznavnostjo. Ali lahko ustvarite odgovor v podobnem slogu? (Ne uporabljajte nujno iste \"kode\", ampak nekaj podobnega.)   \n",
       "505                                                                                                                                                               Kakšne so praktične uporabe kompleksnih števil?   \n",
       "506                                                                                                                                                         Kaj predstavlja rezultat integrala v resničnem svetu?   \n",
       "507                                                                             Dajte mi PPL vadbeno rutino za 6 dni v tednu, hodim v telovadnico btw. Želim začeti delati noge, nato vleči in na koncu potisniti   \n",
       "508                                                                                                                                                  Kako naj se odločim, koliko teže bom uporabil za vsako vajo?   \n",
       "509                                                                                                                                                                         Lahko morda delate v dnevu za kardio?   \n",
       "\n",
       "                                                                                                                                                                                                                                                                                                                                                                                                                                                                                                                                                                                                                                                            generated  \n",
       "500                                                                                                                            Seveda, tukaj je nekaj nasvetov, ki vam bodo pomagali pri učenju uporabe ločil: 1. Uporabite ločila: Začnite z ločili, da se naučite razlikovati med različnimi vrstami in vrstami. 2. Uporabljajte ločilo: Če želite uporabiti Ločila, se morate naučiti, kako se razlikovati od drugih vrst, kot so: - Začnete lahko s preprostim ločenjem, saj je to lahko zelo zapleteno in zapleteno. 3. Poiščite \"Ločila\" ali \"Označite\" in \"Razmislite o tem, kaj bi lahko bilo bolje, če bi se morali naučiti več o ločenju. 4. Uporabi ločile  \n",
       "501                                                                                                                            Seveda, tukaj je nekaj korakov, ki jih lahko uporabite za učenje igranja kitare: 1. Naučite se igrati kitaro: Začnite tako, da se osredotočite na igranje, kot je igranje. To vam bo pomagalo razumeti, kaj je kitara in kako jo je mogoče igrati. 2. Poslušajte glasbo: Ko se igrate, se učite igrati, in se naučite osnov igranja. 3. Spoznajte svoje sposobnosti in sposobnosti igranja, tako da spoznate svoje veščine in veščine. 4. Naučiti se osnov, kako se učiti igranja na kitarah. 5. Poiščite osnove za igranje na kitari.  \n",
       "502                                                                                                                                                                                                                                                                                                                                                                                                                                                                             Seveda, tukaj je nekaj primerov: `Ac9l /7puXogu Ha ceHoBa/l`, ki se uporablja za opis, kako se lahko uporablja v različnih aplikacijah, kot so JavaScript, CSS, Python in Javascript.  \n",
       "503                                                                                                                                                                                                                                                                                                                                                                                                                                                                                                                                                                                                                                            Asja, ya tebya lublu``  \n",
       "504                                                                                                                                                                                                                                                                                                                                                                                                                                                                                                          Seveda, tukaj je odgovor v podobnem slogu, ki ga lahko uporabite za ustvarjanje odgovora v slogu: \"Pozdravljen! Kako si ti? Kako ti lahko danes pomagam?  \n",
       "505  Seveda, tukaj je nekaj praktičnih primerov uporabe kompleksnih števil: 1. Enostavna številska števila: Kompleksna števila so kompleksna števila, ki jih je mogoče uporabiti v različnih aplikacijah, vključno z algoritmi, kot so Python, ChatGPT in PHP. 2. Enostavne številske funkcije: Te funkcije se lahko uporabljajo za reševanje kompleksnih problemov in reševanje problemov. 3. Natančne vrednosti: Ta funkcija se uporablja za prepoznavanje in analizo kompleksnih podatkov. 4. Natančna vrednost: To pomeni, da je vrednost odvisna od več dejavnikov, od katerih je odvisno od tega, ali je število povezano z določenim številom. 5. Enostavnost:  \n",
       "506                                                                                                                                                                                                                                                                                                 Da, rezultat integrala v resničnem svetu je integral, ki ga je mogoče uporabiti za reševanje problemov, povezanih z integralom. To pomeni, da je vsak sistem sestavljen iz več komponent, od katerih je vsaka sestavljena iz enega ali več elementov. Na primer, če je en element povezan z enim elementom, potem je ta funkcija povezana z drugimi komponentami.  \n",
       "507                                                                                                                                                                                                                                                Seveda, tukaj je priporočljiva vadba za 6 dni v tednu, ki jo lahko izvajate v telovadnici btw: 1. Začnite z vajami, kot so hoja, tek, hoja in tek. 2. Začnete s hojo, da se naučite osnov hoje in se osredotočite na vaje. 3. Poskusite izvajati vaje za noge, tako da začnete vleči noge in na koncu potisnite noge. 4. Izvedite vaje, potrebne za začetnike. 5. Izberite vaje in jih razporedite na manjše dele.  \n",
       "508                                                                                                                            Seveda, tukaj je nekaj nasvetov, ki vam bodo pomagali pri odločitvi, koliko teže boste uporabili za vsako vajo: 1. Začnite tako, da se osredotočite na to, kaj želite doseči. To je odvisno od vaših osebnih preferenc in ciljev. 2. Določite svoje cilje in cilje, kot so hitrost, hitrost in vzdržljivost. 3. Določiti cilje: Začnete lahko s čim drugim, kar vam bo pomagalo pri doseganju cilja. 4. Izvedite, katere cilje boste želeli doseči, in določite prednostne naloge. 5. Upoštevajte, ali je vaš cilj doseči cilj ali ne.  \n",
       "509                                                                                                                                                                                                                                                                                                                                                                         Seveda, tukaj je nekaj korakov, ki jih lahko naredite v dnevu za kardio: 1. Začnite tako, da se osredotočite na to, kako se počutite v tem času. 2. Začnete s tem, ko se začnete ukvarjati s to temo. 3. Postavite si vprašanja in vprašajte, če imate še kakšna vprašanja ali vprašanja.  "
      ]
     },
     "execution_count": 30,
     "metadata": {},
     "output_type": "execute_result"
    }
   ],
   "source": [
    "i = 50\n",
    "data.iloc[10 * i: 10 * i + 10]"
   ]
  }
 ],
 "metadata": {
  "kernelspec": {
   "display_name": "project_ds_2",
   "language": "python",
   "name": "python3"
  },
  "language_info": {
   "codemirror_mode": {
    "name": "ipython",
    "version": 3
   },
   "file_extension": ".py",
   "mimetype": "text/x-python",
   "name": "python",
   "nbconvert_exporter": "python",
   "pygments_lexer": "ipython3",
   "version": "3.10.11"
  },
  "orig_nbformat": 4
 },
 "nbformat": 4,
 "nbformat_minor": 2
}

{
 "cells": [
  {
   "cell_type": "code",
   "execution_count": 31,
   "metadata": {},
   "outputs": [],
   "source": [
    "import os\n",
    "import csv\n",
    "import json\n",
    "\n",
    "import pandas as pd"
   ]
  },
  {
   "cell_type": "code",
   "execution_count": 32,
   "metadata": {},
   "outputs": [],
   "source": [
    "data_path = '../../data/google_translate.jsonl'\n",
    "with open(data_path, 'r') as f:\n",
    "    data = [json.loads(line) for line in f]"
   ]
  },
  {
   "cell_type": "code",
   "execution_count": 33,
   "metadata": {},
   "outputs": [],
   "source": [
    "def tree_to_pairs(tree):\n",
    "    # get pairs for root prompt and replies\n",
    "    pairs = message_to_pairs(tree[\"prompt\"])\n",
    "    \n",
    "    # iterate over replies and get pairs for each reply\n",
    "    # for reply in tree[\"prompt\"]['replies']:\n",
    "    #     pairs.extend(message_to_pairs(reply))\n",
    "        \n",
    "    return pairs\n",
    "\n",
    "def message_to_pairs(message):\n",
    "    pairs = []\n",
    "    input_text = message['translation']\n",
    "    # check if we have any replies to build pairs from\n",
    "    if 'replies' in message:\n",
    "        for reply in message['replies']:\n",
    "            # get pairs for current input text ang reply\n",
    "            pairs.append((input_text, reply['translation']))\n",
    "            # get pairs for reply and its replies\n",
    "            pairs.extend(message_to_pairs(reply))\n",
    "    return pairs"
   ]
  },
  {
   "cell_type": "code",
   "execution_count": 34,
   "metadata": {},
   "outputs": [],
   "source": [
    "for tree in data[:2]:\n",
    "    pairs = tree_to_pairs(tree)"
   ]
  },
  {
   "cell_type": "code",
   "execution_count": 42,
   "metadata": {},
   "outputs": [],
   "source": [
    "# Write pairs to csv"
   ]
  }
 ],
 "metadata": {
  "kernelspec": {
   "display_name": "NLP",
   "language": "python",
   "name": "python3"
  },
  "language_info": {
   "codemirror_mode": {
    "name": "ipython",
    "version": 3
   },
   "file_extension": ".py",
   "mimetype": "text/x-python",
   "name": "python",
   "nbconvert_exporter": "python",
   "pygments_lexer": "ipython3",
   "version": "3.11.3"
  },
  "orig_nbformat": 4
 },
 "nbformat": 4,
 "nbformat_minor": 2
}

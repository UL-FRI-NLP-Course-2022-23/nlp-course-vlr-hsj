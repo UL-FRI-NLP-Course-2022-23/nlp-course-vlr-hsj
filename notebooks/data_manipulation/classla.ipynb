{
 "cells": [
  {
   "attachments": {},
   "cell_type": "markdown",
   "metadata": {},
   "source": [
    "# Using Lemmatization to make the text more informal\n",
    "This is an example of changing the official tone of the text to a more informal one"
   ]
  },
  {
   "cell_type": "code",
   "execution_count": 2,
   "metadata": {},
   "outputs": [],
   "source": [
    "import os\n",
    "import json\n",
    "import classla           "
   ]
  },
  {
   "cell_type": "code",
   "execution_count": 3,
   "metadata": {},
   "outputs": [
    {
     "name": "stderr",
     "output_type": "stream",
     "text": [
      "2023-05-03 11:48:08 INFO: Loading these models for language: sl (Slovenian):\n",
      "========================\n",
      "| Processor | Package  |\n",
      "------------------------\n",
      "| tokenize  | standard |\n",
      "| pos       | standard |\n",
      "| lemma     | standard |\n",
      "| depparse  | standard |\n",
      "| ner       | standard |\n",
      "========================\n",
      "\n",
      "2023-05-03 11:48:08 INFO: Use device: cpu\n",
      "2023-05-03 11:48:08 INFO: Loading: tokenize\n",
      "2023-05-03 11:48:08 INFO: Loading: pos\n",
      "2023-05-03 11:48:27 INFO: Loading: lemma\n",
      "2023-05-03 11:48:50 INFO: Loading: depparse\n",
      "2023-05-03 11:48:51 INFO: Loading: ner\n",
      "2023-05-03 11:48:51 INFO: Done loading processors!\n"
     ]
    }
   ],
   "source": [
    "nlp = classla.Pipeline('sl')     "
   ]
  },
  {
   "cell_type": "code",
   "execution_count": null,
   "metadata": {},
   "outputs": [],
   "source": [
    "data_dir = '../../data/google_translate'\n",
    "data_path = os.path.join(data_dir, 'google_translate.jsonl')\n",
    "with open(data_path, 'r') as f:\n",
    "    data = [json.loads(line) for line in f]"
   ]
  },
  {
   "cell_type": "code",
   "execution_count": 58,
   "metadata": {},
   "outputs": [],
   "source": [
    "text = data[42]['prompt']['translation']"
   ]
  },
  {
   "cell_type": "code",
   "execution_count": 59,
   "metadata": {},
   "outputs": [
    {
     "name": "stdout",
     "output_type": "stream",
     "text": [
      "# newpar id = 1\n",
      "# sent_id = 1.1\n",
      "# text = Navedite mi primer držav, ki imajo zelo slabo geografijo in meje.\n",
      "1\tNavedite\tnavesti\tVERB\tVmem2p\tAspect=Perf|Mood=Imp|Number=Plur|Person=2|VerbForm=Fin\t0\troot\t_\tNER=O\n",
      "2\tmi\tjaz\tPRON\tPp1-sd--y\tCase=Dat|Number=Sing|Person=1|PronType=Prs|Variant=Short\t1\tiobj\t_\tNER=O\n",
      "3\tprimer\tprimer\tNOUN\tNcmsan\tAnimacy=Inan|Case=Acc|Gender=Masc|Number=Sing\t1\tobj\t_\tNER=O\n",
      "4\tdržav\tdržava\tNOUN\tNcfpg\tCase=Gen|Gender=Fem|Number=Plur\t3\tnmod\t_\tNER=O|SpaceAfter=No\n",
      "5\t,\t,\tPUNCT\tZ\t_\t7\tpunct\t_\tNER=O\n",
      "6\tki\tki\tSCONJ\tCs\t_\t7\tmark\t_\tNER=O\n",
      "7\timajo\timeti\tVERB\tVmpr3p-n\tAspect=Imp|Mood=Ind|Number=Plur|Person=3|Polarity=Pos|Tense=Pres|VerbForm=Fin\t4\tacl\t_\tNER=O\n",
      "8\tzelo\tzelo\tADV\tRgp\tDegree=Pos\t9\tadvmod\t_\tNER=O\n",
      "9\tslabo\tslab\tADJ\tAgpfsa\tCase=Acc|Degree=Pos|Gender=Fem|Number=Sing\t10\tamod\t_\tNER=O\n",
      "10\tgeografijo\tgeografija\tNOUN\tNcfsa\tCase=Acc|Gender=Fem|Number=Sing\t7\tobj\t_\tNER=O\n",
      "11\tin\tin\tCCONJ\tCc\t_\t12\tcc\t_\tNER=O\n",
      "12\tmeje\tmeja\tNOUN\tNcfpa\tCase=Acc|Gender=Fem|Number=Plur\t10\tconj\t_\tNER=O|SpaceAfter=No\n",
      "13\t.\t.\tPUNCT\tZ\t_\t1\tpunct\t_\tNER=O\n",
      "\n",
      "\n"
     ]
    }
   ],
   "source": [
    "doc = nlp(text)     # run the pipeline\n",
    "print(doc.to_conll())   "
   ]
  },
  {
   "cell_type": "code",
   "execution_count": 60,
   "metadata": {},
   "outputs": [
    {
     "data": {
      "text/plain": [
       "'Navedite mi primer držav, ki imajo zelo slabo geografijo in meje.'"
      ]
     },
     "execution_count": 60,
     "metadata": {},
     "output_type": "execute_result"
    }
   ],
   "source": [
    "text"
   ]
  },
  {
   "cell_type": "code",
   "execution_count": 61,
   "metadata": {},
   "outputs": [],
   "source": [
    "def slo_plural_to_singular(text):\n",
    "    if text.endswith('ete'):\n",
    "        return text[:-3] + 'eš'\n",
    "    elif text.endswith('ite'):\n",
    "        return text[:-3] + 'i'"
   ]
  },
  {
   "cell_type": "code",
   "execution_count": 67,
   "metadata": {},
   "outputs": [
    {
     "name": "stdout",
     "output_type": "stream",
     "text": [
      "Navedite navesti Navedi\n"
     ]
    }
   ],
   "source": [
    "transformed = []\n",
    "for item in doc.iter_tokens():\n",
    "    item_dict = item.to_dict()\n",
    "    if len(item_dict) > 1:\n",
    "        print(item_dict)\n",
    "    item_dict = item_dict[0]\n",
    "    if 'feats' in item_dict:\n",
    "        if 'Person=2' in item_dict['feats']:\n",
    "            singular_text = slo_plural_to_singular(item_dict['text'])\n",
    "            print(item_dict['text'], item_dict['lemma'], singular_text)\n",
    "            item.text = singular_text\n",
    "            "
   ]
  },
  {
   "cell_type": "code",
   "execution_count": 63,
   "metadata": {},
   "outputs": [
    {
     "data": {
      "text/plain": [
       "'Navedi mi primer držav , ki imajo zelo slabo geografijo in meje .'"
      ]
     },
     "execution_count": 63,
     "metadata": {},
     "output_type": "execute_result"
    }
   ],
   "source": [
    "' '.join(transformed)"
   ]
  },
  {
   "cell_type": "code",
   "execution_count": 31,
   "metadata": {},
   "outputs": [
    {
     "data": {
      "text/plain": [
       "{'id': 15,\n",
       " 'text': '.',\n",
       " 'lemma': '.',\n",
       " 'upos': 'PUNCT',\n",
       " 'xpos': 'Z',\n",
       " 'head': 1,\n",
       " 'deprel': 'punct',\n",
       " 'ner': 'O'}"
      ]
     },
     "execution_count": 31,
     "metadata": {},
     "output_type": "execute_result"
    }
   ],
   "source": [
    "item_dict"
   ]
  }
 ],
 "metadata": {
  "kernelspec": {
   "display_name": "nlp",
   "language": "python",
   "name": "python3"
  },
  "language_info": {
   "codemirror_mode": {
    "name": "ipython",
    "version": 3
   },
   "file_extension": ".py",
   "mimetype": "text/x-python",
   "name": "python",
   "nbconvert_exporter": "python",
   "pygments_lexer": "ipython3",
   "version": "3.8.15"
  },
  "orig_nbformat": 4
 },
 "nbformat": 4,
 "nbformat_minor": 2
}

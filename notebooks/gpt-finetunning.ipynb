{
 "cells": [
  {
   "cell_type": "code",
   "execution_count": 8,
   "metadata": {},
   "outputs": [],
   "source": [
    "from transformers import AutoTokenizer, AutoModelForCausalLM, Trainer, TrainingArguments,AutoModelWithLMHead, TextDataset,DataCollatorForLanguageModeling\n",
    "from sklearn.model_selection import train_test_split\n",
    "import pandas as pd\n",
    "import datasets as ds\n",
    "import torch\n",
    "\n",
    "data = pd.read_csv(\"../data/all_conversational_pairs.csv\")\n",
    "train, test = train_test_split(data, test_size=0.2, random_state=1)\n",
    "train, eval = train_test_split(train, test_size=0.2, random_state=1)\n",
    "\n",
    "train.to_csv(\"../data/gpt/train.csv\", index=False)\n",
    "eval.to_csv(\"../data/gpt/eval.csv\", index=False)\n",
    "test.to_csv(\"../data/gpt/test.csv\", index=False)\n",
    "\n",
    "tokenizer = AutoTokenizer.from_pretrained(\"cjvt/gpt-sl-base\")\n",
    "\n",
    "model = AutoModelForCausalLM.from_pretrained(\"cjvt/gpt-sl-base\")"
   ]
  },
  {
   "cell_type": "code",
   "execution_count": 2,
   "metadata": {},
   "outputs": [
    {
     "name": "stderr",
     "output_type": "stream",
     "text": [
      "Setting `pad_token_id` to `eos_token_id`:50256 for open-end generation.\n"
     ]
    },
    {
     "data": {
      "text/plain": [
       "[{'generated_text': 'Ali je Ljubljana je glavno mesto Slovenije. - v skladu z zakonom o javnih naročilih (ZJN-2, Uradni list RS, št. 39/00, 102/00,  2/04, v nadaljevanju: ZJN-2), - v skladu z zakonom o gospodarskih družbah (ZGD-1), - v skladu z zakonom o javnih'}]"
      ]
     },
     "execution_count": 2,
     "metadata": {},
     "output_type": "execute_result"
    }
   ],
   "source": [
    "from transformers import pipeline\n",
    "generator = pipeline('text-generation', model=model, tokenizer=tokenizer)\n",
    "prompt = \"Ali je Ljubljana je glavno mesto Slovenije.\"\n",
    "generator(prompt, max_length=100, num_return_sequences=1)"
   ]
  },
  {
   "cell_type": "code",
   "execution_count": 3,
   "metadata": {},
   "outputs": [
    {
     "name": "stderr",
     "output_type": "stream",
     "text": [
      "c:\\Users\\rjutr\\miniconda3\\envs\\project_ds_2\\lib\\site-packages\\transformers\\data\\datasets\\language_modeling.py:53: FutureWarning: This dataset will be removed from the library soon, preprocessing should be handled with the 🤗 Datasets library. You can have a look at this example script for pointers: https://github.com/huggingface/transformers/blob/main/examples/pytorch/language-modeling/run_mlm.py\n",
      "  warnings.warn(\n"
     ]
    }
   ],
   "source": [
    "def load_dataset(train_path,test_path,tokenizer):\n",
    "    train_dataset = TextDataset(\n",
    "          tokenizer=tokenizer,\n",
    "          file_path=train_path,\n",
    "          block_size=128)\n",
    "     \n",
    "    test_dataset = TextDataset(\n",
    "          tokenizer=tokenizer,\n",
    "          file_path=test_path,\n",
    "          block_size=128)   \n",
    "    \n",
    "    data_collator = DataCollatorForLanguageModeling(\n",
    "        tokenizer=tokenizer, mlm=False,\n",
    "    )\n",
    "    return train_dataset,test_dataset,data_collator\n",
    "\n",
    "train_dataset,eval_dataset,data_collator = load_dataset(\"../data/gpt/train.csv\",\"../data/gpt/eval.csv\",tokenizer)"
   ]
  },
  {
   "cell_type": "code",
   "execution_count": 4,
   "metadata": {},
   "outputs": [],
   "source": [
    "training_args = TrainingArguments(\n",
    "    output_dir=\"../models/gpt-ft\", #The output directory\n",
    "    overwrite_output_dir=True, #overwrite the content of the output directory\n",
    "    num_train_epochs=5, # number of training epochs\n",
    "    per_device_train_batch_size=8, # batch size for training\n",
    "    per_device_eval_batch_size=16,  # batch size for evaluation\n",
    "    eval_steps = 400, # Number of update steps between two evaluations.\n",
    "    save_steps = 800, # after # steps model is saved \n",
    "    warmup_steps = 500,# number of warmup steps for learning rate scheduler\n",
    "    prediction_loss_only=True,\n",
    "    save_best_model=True\n",
    ")\n",
    "\n",
    "\n",
    "trainer = Trainer(\n",
    "    model=model,\n",
    "    args=training_args,\n",
    "    data_collator=data_collator,\n",
    "    train_dataset=train_dataset,\n",
    "    eval_dataset=eval_dataset,\n",
    ")"
   ]
  },
  {
   "cell_type": "code",
   "execution_count": 5,
   "metadata": {},
   "outputs": [
    {
     "name": "stderr",
     "output_type": "stream",
     "text": [
      "c:\\Users\\rjutr\\miniconda3\\envs\\project_ds_2\\lib\\site-packages\\transformers\\optimization.py:391: FutureWarning: This implementation of AdamW is deprecated and will be removed in a future version. Use the PyTorch implementation torch.optim.AdamW instead, or set `no_deprecation_warning=True` to disable this warning\n",
      "  warnings.warn(\n"
     ]
    },
    {
     "data": {
      "application/vnd.jupyter.widget-view+json": {
       "model_id": "614150080d5542f085f427257dcf70d5",
       "version_major": 2,
       "version_minor": 0
      },
      "text/plain": [
       "  0%|          | 0/36885 [00:00<?, ?it/s]"
      ]
     },
     "metadata": {},
     "output_type": "display_data"
    },
    {
     "name": "stdout",
     "output_type": "stream",
     "text": [
      "{'loss': 2.9647, 'learning_rate': 5e-05, 'epoch': 0.07}\n",
      "{'loss': 2.842, 'learning_rate': 4.931290366909441e-05, 'epoch': 0.14}\n",
      "{'loss': 2.7902, 'learning_rate': 4.862580733818882e-05, 'epoch': 0.2}\n",
      "{'loss': 2.739, 'learning_rate': 4.793871100728322e-05, 'epoch': 0.27}\n",
      "{'loss': 2.7061, 'learning_rate': 4.725161467637763e-05, 'epoch': 0.34}\n",
      "{'loss': 2.6652, 'learning_rate': 4.656451834547204e-05, 'epoch': 0.41}\n",
      "{'loss': 2.655, 'learning_rate': 4.587742201456645e-05, 'epoch': 0.47}\n",
      "{'loss': 2.6362, 'learning_rate': 4.519032568366085e-05, 'epoch': 0.54}\n",
      "{'loss': 2.5923, 'learning_rate': 4.450322935275526e-05, 'epoch': 0.61}\n",
      "{'loss': 2.6014, 'learning_rate': 4.381613302184967e-05, 'epoch': 0.68}\n",
      "{'loss': 2.5698, 'learning_rate': 4.312903669094407e-05, 'epoch': 0.75}\n",
      "{'loss': 2.5492, 'learning_rate': 4.2441940360038477e-05, 'epoch': 0.81}\n",
      "{'loss': 2.5491, 'learning_rate': 4.175484402913289e-05, 'epoch': 0.88}\n",
      "{'loss': 2.5182, 'learning_rate': 4.106774769822729e-05, 'epoch': 0.95}\n",
      "{'loss': 2.4176, 'learning_rate': 4.0380651367321696e-05, 'epoch': 1.02}\n",
      "{'loss': 2.1723, 'learning_rate': 3.969355503641611e-05, 'epoch': 1.08}\n",
      "{'loss': 2.1885, 'learning_rate': 3.900645870551051e-05, 'epoch': 1.15}\n",
      "{'loss': 2.1865, 'learning_rate': 3.831936237460492e-05, 'epoch': 1.22}\n",
      "{'loss': 2.1939, 'learning_rate': 3.763226604369933e-05, 'epoch': 1.29}\n",
      "{'loss': 2.2067, 'learning_rate': 3.694516971279374e-05, 'epoch': 1.36}\n",
      "{'loss': 2.1981, 'learning_rate': 3.625807338188814e-05, 'epoch': 1.42}\n",
      "{'loss': 2.1816, 'learning_rate': 3.557097705098255e-05, 'epoch': 1.49}\n",
      "{'loss': 2.1958, 'learning_rate': 3.488388072007696e-05, 'epoch': 1.56}\n",
      "{'loss': 2.1871, 'learning_rate': 3.419678438917137e-05, 'epoch': 1.63}\n",
      "{'loss': 2.1952, 'learning_rate': 3.350968805826577e-05, 'epoch': 1.69}\n",
      "{'loss': 2.1907, 'learning_rate': 3.282259172736018e-05, 'epoch': 1.76}\n",
      "{'loss': 2.1787, 'learning_rate': 3.213549539645458e-05, 'epoch': 1.83}\n",
      "{'loss': 2.1786, 'learning_rate': 3.144839906554899e-05, 'epoch': 1.9}\n",
      "{'loss': 2.1633, 'learning_rate': 3.0761302734643397e-05, 'epoch': 1.97}\n",
      "{'loss': 2.0073, 'learning_rate': 3.0074206403737804e-05, 'epoch': 2.03}\n",
      "{'loss': 1.8458, 'learning_rate': 2.9387110072832212e-05, 'epoch': 2.1}\n",
      "{'loss': 1.8651, 'learning_rate': 2.870001374192662e-05, 'epoch': 2.17}\n",
      "{'loss': 1.8721, 'learning_rate': 2.8012917411021027e-05, 'epoch': 2.24}\n",
      "{'loss': 1.8802, 'learning_rate': 2.732582108011543e-05, 'epoch': 2.3}\n",
      "{'loss': 1.8908, 'learning_rate': 2.6638724749209843e-05, 'epoch': 2.37}\n",
      "{'loss': 1.8885, 'learning_rate': 2.5951628418304247e-05, 'epoch': 2.44}\n",
      "{'loss': 1.8875, 'learning_rate': 2.5264532087398658e-05, 'epoch': 2.51}\n",
      "{'loss': 1.8968, 'learning_rate': 2.4577435756493062e-05, 'epoch': 2.58}\n",
      "{'loss': 1.8852, 'learning_rate': 2.389033942558747e-05, 'epoch': 2.64}\n",
      "{'loss': 1.8758, 'learning_rate': 2.3203243094681874e-05, 'epoch': 2.71}\n",
      "{'loss': 1.8846, 'learning_rate': 2.2516146763776282e-05, 'epoch': 2.78}\n",
      "{'loss': 1.8779, 'learning_rate': 2.182905043287069e-05, 'epoch': 2.85}\n",
      "{'loss': 1.884, 'learning_rate': 2.1141954101965097e-05, 'epoch': 2.91}\n",
      "{'loss': 1.8748, 'learning_rate': 2.0454857771059505e-05, 'epoch': 2.98}\n",
      "{'loss': 1.6617, 'learning_rate': 1.9767761440153912e-05, 'epoch': 3.05}\n",
      "{'loss': 1.6174, 'learning_rate': 1.9080665109248317e-05, 'epoch': 3.12}\n",
      "{'loss': 1.6259, 'learning_rate': 1.8393568778342724e-05, 'epoch': 3.19}\n",
      "{'loss': 1.644, 'learning_rate': 1.7706472447437132e-05, 'epoch': 3.25}\n",
      "{'loss': 1.6383, 'learning_rate': 1.7019376116531536e-05, 'epoch': 3.32}\n",
      "{'loss': 1.6351, 'learning_rate': 1.6332279785625944e-05, 'epoch': 3.39}\n",
      "{'loss': 1.6468, 'learning_rate': 1.564518345472035e-05, 'epoch': 3.46}\n",
      "{'loss': 1.6477, 'learning_rate': 1.495808712381476e-05, 'epoch': 3.52}\n",
      "{'loss': 1.6413, 'learning_rate': 1.4270990792909167e-05, 'epoch': 3.59}\n",
      "{'loss': 1.6379, 'learning_rate': 1.3583894462003575e-05, 'epoch': 3.66}\n",
      "{'loss': 1.6422, 'learning_rate': 1.289679813109798e-05, 'epoch': 3.73}\n",
      "{'loss': 1.6549, 'learning_rate': 1.2209701800192387e-05, 'epoch': 3.8}\n",
      "{'loss': 1.6457, 'learning_rate': 1.1522605469286794e-05, 'epoch': 3.86}\n",
      "{'loss': 1.6543, 'learning_rate': 1.0835509138381202e-05, 'epoch': 3.93}\n",
      "{'loss': 1.6421, 'learning_rate': 1.014841280747561e-05, 'epoch': 4.0}\n",
      "{'loss': 1.4457, 'learning_rate': 9.461316476570015e-06, 'epoch': 4.07}\n",
      "{'loss': 1.4547, 'learning_rate': 8.774220145664423e-06, 'epoch': 4.13}\n",
      "{'loss': 1.4589, 'learning_rate': 8.087123814758829e-06, 'epoch': 4.2}\n",
      "{'loss': 1.4613, 'learning_rate': 7.400027483853236e-06, 'epoch': 4.27}\n",
      "{'loss': 1.4547, 'learning_rate': 6.712931152947644e-06, 'epoch': 4.34}\n",
      "{'loss': 1.4686, 'learning_rate': 6.02583482204205e-06, 'epoch': 4.41}\n",
      "{'loss': 1.456, 'learning_rate': 5.338738491136457e-06, 'epoch': 4.47}\n",
      "{'loss': 1.4596, 'learning_rate': 4.651642160230865e-06, 'epoch': 4.54}\n",
      "{'loss': 1.4625, 'learning_rate': 3.964545829325272e-06, 'epoch': 4.61}\n",
      "{'loss': 1.4554, 'learning_rate': 3.277449498419679e-06, 'epoch': 4.68}\n",
      "{'loss': 1.4553, 'learning_rate': 2.5903531675140853e-06, 'epoch': 4.74}\n",
      "{'loss': 1.4596, 'learning_rate': 1.9032568366084928e-06, 'epoch': 4.81}\n",
      "{'loss': 1.4504, 'learning_rate': 1.2161605057028996e-06, 'epoch': 4.88}\n",
      "{'loss': 1.4651, 'learning_rate': 5.290641747973066e-07, 'epoch': 4.95}\n",
      "{'train_runtime': 6622.7923, 'train_samples_per_second': 44.554, 'train_steps_per_second': 5.569, 'train_loss': 1.9642753593834723, 'epoch': 5.0}\n"
     ]
    },
    {
     "data": {
      "text/plain": [
       "TrainOutput(global_step=36885, training_loss=1.9642753593834723, metrics={'train_runtime': 6622.7923, 'train_samples_per_second': 44.554, 'train_steps_per_second': 5.569, 'train_loss': 1.9642753593834723, 'epoch': 5.0})"
      ]
     },
     "execution_count": 5,
     "metadata": {},
     "output_type": "execute_result"
    }
   ],
   "source": [
    "trainer.train()"
   ]
  },
  {
   "cell_type": "code",
   "execution_count": 6,
   "metadata": {},
   "outputs": [],
   "source": [
    "trainer.save_model()"
   ]
  },
  {
   "cell_type": "code",
   "execution_count": null,
   "metadata": {},
   "outputs": [],
   "source": [
    "del tokenizer\n",
    "del model\n",
    "del generator\n",
    "torch.cuda.empty_cache()"
   ]
  },
  {
   "cell_type": "code",
   "execution_count": 25,
   "metadata": {},
   "outputs": [
    {
     "name": "stderr",
     "output_type": "stream",
     "text": [
      "Setting `pad_token_id` to `eos_token_id`:50256 for open-end generation.\n"
     ]
    },
    {
     "data": {
      "text/plain": [
       "[{'generated_text': 'Ali je Ljubljana glavno mesto Slovenije?,\"Dunaj je glavno mesto Velike Britanije, ki je znano po svoji bogati zgodovini, kulturi, gastronomiji in nočnem življenju. Mesto je znano tudi po svoji umetniški in kulturni dediščini'}]"
      ]
     },
     "execution_count": 25,
     "metadata": {},
     "output_type": "execute_result"
    }
   ],
   "source": [
    "tokenizer = AutoTokenizer.from_pretrained(\"cjvt/gpt-sl-base\")\n",
    "\n",
    "model = AutoModelForCausalLM.from_pretrained(\"..\\models\\gpt-ft\")\n",
    "\n",
    "generator = pipeline('text-generation', model=model, tokenizer=tokenizer)\n",
    "prompt = \"Ali je Ljubljana glavno mesto Slovenije?\"\n",
    "generator(prompt, max_length=50, num_return_sequences=1)"
   ]
  }
 ],
 "metadata": {
  "kernelspec": {
   "display_name": "nlp",
   "language": "python",
   "name": "python3"
  },
  "language_info": {
   "codemirror_mode": {
    "name": "ipython",
    "version": 3
   },
   "file_extension": ".py",
   "mimetype": "text/x-python",
   "name": "python",
   "nbconvert_exporter": "python",
   "pygments_lexer": "ipython3",
   "version": "3.10.11"
  },
  "orig_nbformat": 4
 },
 "nbformat": 4,
 "nbformat_minor": 2
}

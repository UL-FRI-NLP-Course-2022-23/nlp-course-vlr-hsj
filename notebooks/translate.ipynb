{
 "cells": [
  {
   "cell_type": "code",
   "execution_count": 140,
   "metadata": {},
   "outputs": [],
   "source": [
    "import os\n",
    "import json\n",
    "from deep_translator import GoogleTranslator\n",
    "#from deep_translator.exceptions import NotValidPayload"
   ]
  },
  {
   "cell_type": "code",
   "execution_count": 141,
   "metadata": {},
   "outputs": [],
   "source": [
    "data_path = '../data/2023-04-12_oasst_ready.trees.jsonl'\n",
    "with open(data_path, 'r') as f:\n",
    "    data = [json.loads(line) for line in f]"
   ]
  },
  {
   "cell_type": "code",
   "execution_count": 147,
   "metadata": {},
   "outputs": [
    {
     "data": {
      "text/plain": [
       "5182"
      ]
     },
     "execution_count": 147,
     "metadata": {},
     "output_type": "execute_result"
    }
   ],
   "source": [
    "len(data) // 2"
   ]
  },
  {
   "attachments": {},
   "cell_type": "markdown",
   "metadata": {},
   "source": [
    "### Translate the data"
   ]
  },
  {
   "cell_type": "code",
   "execution_count": 113,
   "metadata": {},
   "outputs": [],
   "source": [
    "translator = GoogleTranslator(source='en', target='sl')\n",
    "#translator = PonsTranslator(source='en', target='sl')\n",
    "#translator = DeeplTranslator(source='en', target='sl')\n",
    "#translator = MyMemoryTranslator(source='en', target='sl')\n",
    "\n",
    "def _translate(text):\n",
    "    return translator.translate(text, from_language='sl')\n",
    "\n",
    "\n",
    "def translate(text):\n",
    "    if len(text) < 5000: \n",
    "        return _translate(text)\n",
    "\n",
    "    lines = text.split('\\n')\n",
    "    translations = []\n",
    "    for line in lines:\n",
    "        translations.append(_translate(line))\n",
    "    return '\\n'.join(translations)"
   ]
  },
  {
   "cell_type": "code",
   "execution_count": 121,
   "metadata": {},
   "outputs": [],
   "source": [
    "def translate_message(message, translate):\n",
    "    text = message['text']\n",
    "    translation = translate(text)\n",
    "    if len(translation) == 0:\n",
    "        print('Translation failed for:')\n",
    "        print(text)\n",
    "    message['translation'] = translation\n",
    "    for reply in message['replies']:\n",
    "        reply = translate_message(reply, translate)\n",
    "    return message\n",
    "    "
   ]
  },
  {
   "cell_type": "code",
   "execution_count": 122,
   "metadata": {},
   "outputs": [],
   "source": [
    "def translate_tree(tree, translate):\n",
    "    tree['prompt'] = translate_message(tree['prompt'], translate)\n",
    "    return tree"
   ]
  },
  {
   "cell_type": "code",
   "execution_count": 123,
   "metadata": {},
   "outputs": [],
   "source": [
    "def translate_dataset(data, translate, translations_path='data/translated'):\n",
    "    #os.mkdir(translations_path)\n",
    "    for tree in data:\n",
    "        if tree['prompt']['lang'] != 'en':\n",
    "            continue\n",
    "        # catch errors at this stage so as not to stop translation of other trees\n",
    "        try:\n",
    "            translated = translate_tree(tree, translate)\n",
    "            # save to file\n",
    "            tree_path = os.path.join(translations_path, tree['message_tree_id'] + '.json')\n",
    "            with open(tree_path, 'w', encoding='utf-8') as f:\n",
    "                json.dump(translated, f, ensure_ascii=False)\n",
    "        except Exception as e:\n",
    "            print(e)\n",
    "            continue"
   ]
  },
  {
   "cell_type": "code",
   "execution_count": 124,
   "metadata": {},
   "outputs": [],
   "source": [
    "translate_dataset(data, translate, translations_path='../data/google_translate')"
   ]
  },
  {
   "cell_type": "code",
   "execution_count": 139,
   "metadata": {},
   "outputs": [
    {
     "data": {
      "text/plain": [
       "66497"
      ]
     },
     "execution_count": 139,
     "metadata": {},
     "output_type": "execute_result"
    }
   ],
   "source": [
    "len(data)"
   ]
  },
  {
   "cell_type": "code",
   "execution_count": 138,
   "metadata": {},
   "outputs": [
    {
     "data": {
      "text/plain": [
       "92.35694444444445"
      ]
     },
     "execution_count": 138,
     "metadata": {},
     "output_type": "execute_result"
    }
   ],
   "source": [
    "5 * len(data) / 60 / 60"
   ]
  },
  {
   "attachments": {},
   "cell_type": "markdown",
   "metadata": {},
   "source": [
    "## Check the transalted conversation"
   ]
  },
  {
   "cell_type": "code",
   "execution_count": 132,
   "metadata": {},
   "outputs": [],
   "source": [
    "def generate_conversation(tree):\n",
    "    conversation = []\n",
    "    message = tree['prompt']\n",
    "    conversation.append((message['role'], message['translation']))\n",
    "    while len(message['replies']) > 0:\n",
    "        message = message['replies'][0]\n",
    "        conversation.append((message['role'], message['translation']))\n",
    "    return conversation"
   ]
  },
  {
   "cell_type": "code",
   "execution_count": 133,
   "metadata": {},
   "outputs": [],
   "source": [
    "tre_id = data[2]['message_tree_id']\n",
    "\n",
    "with open('../data/google_translate/' + tre_id + '.json', 'r') as f:\n",
    "    translated = json.load(f)"
   ]
  },
  {
   "cell_type": "code",
   "execution_count": 134,
   "metadata": {},
   "outputs": [
    {
     "name": "stdout",
     "output_type": "stream",
     "text": [
      "PROMPTER: Ali lahko kontrastno učenje v strojnem učenju preprosto razložite nekomu, ki je nov na področju strojnega učenja?\n",
      "ASSISTANT: Seveda! Recimo, da želite zgraditi model, ki lahko razlikuje med slikami mačk in psov. Zberete svoj nabor podatkov, sestavljen iz številnih slik mačk in psov. Nato jih prenesete skozi nevronsko mrežo po vaši izbiri, ki ustvari nekaj predstavitve za vsako sliko, zaporedje številk, kot je [0,123, 0,045, 0,334, ...]. Težava je v tem, da če vaš model ne pozna podob mačke in psa, bodo te predstavitve precej naključne. Včasih bi lahko imeli sliki mačke in psa zelo podobni predstavitvi (njuni številki bi bili blizu ena drugi), medtem ko sta lahko drugič dve podobi mačke predstavljeni daleč narazen. Preprosto povedano, model ne bi mogel ločiti mačk od psov. Tu nastopi kontrastno učenje.\n",
      "\n",
      "Bistvo kontrastivnega učenja je, da vzamemo pare vzorcev (v tem primeru slike mačk in psov), nato urimo model, da \"povleče\" predstavitve podobnih parov (mačka-mačka ali pes-pes) bližje drug drugemu in \"potisne\". \" predstavitve različnih parov (mačka-pes) narazen. Ko to naredite v zadostnem številu korakov, bo vaš model lahko izdelal edinstvene, zanesljive predstavitve mačk in psov, v bistvu jih ločil.\n",
      "\n",
      "Ta metoda ni omejena na slike, običajno jo lahko uporabite s katerim koli naborom podatkov, ki ima podobne in različne podatkovne točke.\n",
      "PROMPTER: Nisem razumel, kako deluje vlečenje in potiskanje. Kaj vlečemo ali potiskamo? In kako deluje v smislu kode ali matematike?\n",
      "ASSISTANT: Povezano je s procesom, imenovanim diferenciacija, kar pomeni iskanje izpeljanke: funkcije, ki nam pove, ali gre druga funkcija na določeni točki navzgor ali navzdol. Na primer, izpeljanka `f(x) = x` je `f'(x) = 1`, ker vedno narašča v razmerju 1:1. To je mogoče storiti za različne funkcije; zlasti če poznate izpeljanke `f(x)` in `g(x)`, lahko dobite tudi izpeljanko `f(g(x))` z uporabo formule, imenovane verižno pravilo. Nevronske mreže so sestavljene iz diferencialnih funkcij, zato lahko vzamemo izpeljavo delov ali vsega.\n",
      "\n",
      "Da bi to uporabili za \"potiskanje\" in \"vlečenje\", bomo skozi nevronsko mrežo dali dve sliki. Recimo, da sta sliki mačke in psa, zato želimo povečati razdaljo med njima. Izberemo eno utež nevrona iz omrežja in jo spremenimo v spremenljivko `x`, nato pa sestavimo funkcijo, ki izračuna izhod omrežja na podlagi nje in vseh drugih parametrov; poimenujmo to `N(x)`. Razdalja med izhodoma mačke in psa bi bila `f(x) = N(mačka) - N(pes)`. (Seveda bi imel dejanski izhod več kot eno dimenzijo, vendar poenostavljamo.) Zdaj želimo utež premakniti tako, da premakne oba izhoda nekoliko bolj narazen. Za to lahko preprosto vzamemo izpeljanko! Če je `f'(x)` pozitiven, to pomeni, da jih bo povečanje teže še bolj razmaknilo, zato bi morali to storiti. Če je negativen, jih bo premaknil bližje, zato bomo namesto tega želeli nekoliko zmanjšati težo. To dovoljkrat uporabite za vse nevrone in vaše omrežje se bo kmalu združilo v zelo dober ločilnik mačk in psov!\n"
     ]
    }
   ],
   "source": [
    "conv = generate_conversation(translated)\n",
    "for role, line in conv:\n",
    "    print(f'{role.upper()}: {line}')"
   ]
  }
 ],
 "metadata": {
  "kernelspec": {
   "display_name": "NLP",
   "language": "python",
   "name": "python3"
  },
  "language_info": {
   "codemirror_mode": {
    "name": "ipython",
    "version": 3
   },
   "file_extension": ".py",
   "mimetype": "text/x-python",
   "name": "python",
   "nbconvert_exporter": "python",
   "pygments_lexer": "ipython3",
   "version": "3.10.8"
  },
  "orig_nbformat": 4
 },
 "nbformat": 4,
 "nbformat_minor": 2
}

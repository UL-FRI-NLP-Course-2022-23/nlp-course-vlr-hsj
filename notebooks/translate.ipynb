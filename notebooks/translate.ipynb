{
 "cells": [
  {
   "cell_type": "code",
   "execution_count": 68,
   "metadata": {},
   "outputs": [],
   "source": [
    "import os\n",
    "import re\n",
    "import json\n",
    "from deep_translator import GoogleTranslator\n",
    "#from deep_translator.exceptions import NotValidPayload"
   ]
  },
  {
   "cell_type": "code",
   "execution_count": 8,
   "metadata": {},
   "outputs": [],
   "source": [
    "data_path = '../data/2023-04-12_oasst_ready.trees.jsonl'\n",
    "with open(data_path, 'r') as f:\n",
    "    data = [json.loads(line) for line in f]"
   ]
  },
  {
   "attachments": {},
   "cell_type": "markdown",
   "metadata": {},
   "source": [
    "### Translate the data"
   ]
  },
  {
   "cell_type": "code",
   "execution_count": 122,
   "metadata": {},
   "outputs": [],
   "source": [
    "translator = GoogleTranslator(source='en', target='sl')\n",
    "#translator = PonsTranslator(source='en', target='sl')\n",
    "#translator = DeeplTranslator(source='en', target='sl')\n",
    "#translator = MyMemoryTranslator(source='en', target='sl')\n",
    "\n",
    "def extract_code_block(text):\n",
    "    code = re.findall(r'```[a-z]*\\n([\\s\\S]*?)\\n```', text, re.MULTILINE)\n",
    "    return code if len(code) > 0 else []\n",
    "\n",
    "def separate_text_and_code(text):\n",
    "    code_blocks = extract_code_block(text)\n",
    "    for code in code_blocks:\n",
    "        text = text.replace(code, 'XXX')\n",
    "    return text, code_blocks\n",
    "\n",
    "def _translate(text):\n",
    "    # extract code blocks\n",
    "    text, code_blocks = separate_text_and_code(text)\n",
    "    # do not translate numbers\n",
    "    if text.isdigit():\n",
    "        translation = text\n",
    "    else:\n",
    "        translation = translator.translate(text, from_language='sl')\n",
    "    # place the code blocks back into the translation\n",
    "    for code in code_blocks:\n",
    "        translation = translation.replace('XXX', code, 1)\n",
    "    return translation\n",
    "\n",
    "\n",
    "def translate(text):\n",
    "    if len(text) < 5000: \n",
    "        return _translate(text)\n",
    "\n",
    "    lines = text.split('\\n')\n",
    "    translations = []\n",
    "    for line in lines:\n",
    "        translations.append(_translate(line))\n",
    "    return '\\n'.join([t for t in translations if t is not None])"
   ]
  },
  {
   "cell_type": "code",
   "execution_count": 123,
   "metadata": {},
   "outputs": [],
   "source": [
    "def translate_message(message, translate):\n",
    "    text = message['text']\n",
    "    translation = translate(text)\n",
    "    if translation is None or len(translation) == 0:\n",
    "        print('Translation failed for:', text)\n",
    "        message['translation'] = text\n",
    "        return message\n",
    "    message['translation'] = translation\n",
    "    for reply in message['replies']:\n",
    "        reply = translate_message(reply, translate)\n",
    "    return message\n",
    "    "
   ]
  },
  {
   "cell_type": "code",
   "execution_count": 124,
   "metadata": {},
   "outputs": [],
   "source": [
    "def translate_tree(tree, translate):\n",
    "    tree['prompt'] = translate_message(tree['prompt'], translate)\n",
    "    return tree"
   ]
  },
  {
   "cell_type": "code",
   "execution_count": 125,
   "metadata": {},
   "outputs": [],
   "source": [
    "def translate_dataset(data, translate, translations_path='data/translated'):\n",
    "    #os.mkdir(translations_path)\n",
    "    failed_ids = []\n",
    "    for tree in data:\n",
    "        if tree['prompt']['lang'] != 'en':\n",
    "            continue\n",
    "        # catch errors at this stage so as not to stop translation of other trees\n",
    "        tree_path = os.path.join(translations_path, tree['message_tree_id'] + '.json')\n",
    "        if os.path.exists(tree_path):\n",
    "            continue\n",
    "        try:\n",
    "            translated = translate_tree(tree, translate)\n",
    "            # save to file\n",
    "            with open(tree_path, 'w', encoding='utf-8') as f:\n",
    "                json.dump(translated, f, ensure_ascii=False)\n",
    "        except Exception as e:\n",
    "            print(e)\n",
    "            print('Translation failed for tree: ' + tree['message_tree_id'])\n",
    "            failed_ids.append(tree['message_tree_id'])\n",
    "            continue\n",
    "    return failed_ids"
   ]
  },
  {
   "cell_type": "code",
   "execution_count": 126,
   "metadata": {},
   "outputs": [
    {
     "name": "stdout",
     "output_type": "stream",
     "text": [
      "Translation failed for: ???\n"
     ]
    }
   ],
   "source": [
    "failed_ids = translate_dataset(data[:5182], translate, translations_path='../data/google_translate')"
   ]
  },
  {
   "cell_type": "code",
   "execution_count": 127,
   "metadata": {},
   "outputs": [
    {
     "data": {
      "text/plain": [
       "[]"
      ]
     },
     "execution_count": 127,
     "metadata": {},
     "output_type": "execute_result"
    }
   ],
   "source": [
    "failed_ids"
   ]
  },
  {
   "attachments": {},
   "cell_type": "markdown",
   "metadata": {},
   "source": [
    "## Check the transalted conversation"
   ]
  },
  {
   "cell_type": "code",
   "execution_count": 128,
   "metadata": {},
   "outputs": [],
   "source": [
    "def generate_conversation(tree):\n",
    "    conversation = []\n",
    "    message = tree['prompt']\n",
    "    conversation.append((message['role'], message['translation']))\n",
    "    while len(message['replies']) > 0:\n",
    "        message = message['replies'][0]\n",
    "        conversation.append((message['role'], message['translation']))\n",
    "    return conversation"
   ]
  },
  {
   "cell_type": "code",
   "execution_count": 129,
   "metadata": {},
   "outputs": [],
   "source": [
    "tree_id = data[21]['message_tree_id']\n",
    "\n",
    "with open('../data/google_translate/' + tree_id + '.json', 'r') as f:\n",
    "    translated = json.load(f)"
   ]
  },
  {
   "cell_type": "code",
   "execution_count": 130,
   "metadata": {},
   "outputs": [
    {
     "name": "stdout",
     "output_type": "stream",
     "text": [
      "PROMPTER: Kako naj ustvarim skript za mešalnik, ki zamenja vse predmete z določenim imenom s točkovno svetlobo?\n",
      "ASSISTANT: Tukaj je primer skripta Python za Blender, ki zamenja vse predmete z določenim imenom (v tem primeru \"Cube\") s točkovno svetlobo:\n",
      "\n",
      "```\n",
      "python\n",
      "\n",
      "import bpy\n",
      "\n",
      "# Set the name of the object you want to replace\n",
      "object_name = \"Cube\"\n",
      "\n",
      "# Create a new point light\n",
      "light_data = bpy.data.lights.new(name=\"Point Light\", type=\"POINT\")\n",
      "light_object = bpy.data.objects.new(name=\"Point Light\", object_data=light_data)\n",
      "bpy.context.scene.collection.objects.link(light_object)\n",
      "\n",
      "# Find all objects with the specified name and replace them with the point light\n",
      "for obj in bpy.context.scene.objects:\n",
      "    if obj.name.startswith(object_name):\n",
      "        obj_index = obj.pass_index # store the original index of the object for later use\n",
      "        obj_data = obj.data\n",
      "        obj_matrix = obj.matrix_world\n",
      "        bpy.data.objects.remove(obj)\n",
      "        light_object.pass_index = obj_index # assign the original index to the new object\n",
      "        light_object.matrix_world = obj_matrix\n",
      "        light_object.data = light_data\n",
      "```\n",
      "\n",
      "Če želite uporabiti ta skript, odprite Blender in ustvarite ali odprite datoteko s predmeti z imenom \"Cube\". Nato pojdite v delovni prostor Scripting in ustvarite novo besedilno datoteko. Kopirajte in prilepite zgornjo kodo v urejevalnik besedila ter zaženite skript s klikom na gumb »Zaženi skript« ali pritiskom na F5. Vsi predmeti z imenom \"Cube\" bodo nadomeščeni z novim predmetom točkovne svetlobe.\n",
      "PROMPTER: Ko zaženem to kodo v Blenderju 3.4.1, kot ste navedli, dejansko zamenja kocko s točkovno lučko. Hvala za koristno kodo! Kako bi lahko dosegel enak učinek, vendar glede na vrsto predmeta namesto imena?\n"
     ]
    }
   ],
   "source": [
    "conv = generate_conversation(translated)\n",
    "for role, line in conv:\n",
    "    print(f'{role.upper()}: {line}')"
   ]
  }
 ],
 "metadata": {
  "kernelspec": {
   "display_name": "NLP",
   "language": "python",
   "name": "python3"
  },
  "language_info": {
   "codemirror_mode": {
    "name": "ipython",
    "version": 3
   },
   "file_extension": ".py",
   "mimetype": "text/x-python",
   "name": "python",
   "nbconvert_exporter": "python",
   "pygments_lexer": "ipython3",
   "version": "3.10.8"
  },
  "orig_nbformat": 4
 },
 "nbformat": 4,
 "nbformat_minor": 2
}

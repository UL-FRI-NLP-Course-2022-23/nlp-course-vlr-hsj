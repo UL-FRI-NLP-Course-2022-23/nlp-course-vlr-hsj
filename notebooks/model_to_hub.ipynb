{
 "cells": [
  {
   "cell_type": "code",
   "execution_count": 1,
   "metadata": {},
   "outputs": [
    {
     "name": "stderr",
     "output_type": "stream",
     "text": [
      "c:\\Users\\valte\\miniconda3\\envs\\nlp\\Lib\\site-packages\\tqdm\\auto.py:21: TqdmWarning: IProgress not found. Please update jupyter and ipywidgets. See https://ipywidgets.readthedocs.io/en/stable/user_install.html\n",
      "  from .autonotebook import tqdm as notebook_tqdm\n"
     ]
    }
   ],
   "source": [
    "from transformers import AutoTokenizer, AutoModelForCausalLM,AutoModelForSeq2SeqLM"
   ]
  },
  {
   "cell_type": "code",
   "execution_count": 2,
   "metadata": {},
   "outputs": [],
   "source": [
    "model_path = \"../models\"\n",
    "model_name = \"t5-sl-large-oasst-pairs\"\n",
    "checkpoint = \"checkpoint-4738\"\n",
    "\n",
    "tokenizer = AutoTokenizer.from_pretrained(f\"{model_path}/{model_name}/{checkpoint}\")\n",
    "if 'gpt' in model_name:\n",
    "    model = AutoModelForCausalLM.from_pretrained(f\"{model_path}/{model_name}/{checkpoint}\")\n",
    "elif 't5' in model_name:\n",
    "    model = AutoModelForSeq2SeqLM.from_pretrained(f\"{model_path}/{model_name}/{checkpoint}\")"
   ]
  },
  {
   "attachments": {},
   "cell_type": "markdown",
   "metadata": {},
   "source": [
    "Push to hub"
   ]
  },
  {
   "cell_type": "code",
   "execution_count": 3,
   "metadata": {},
   "outputs": [
    {
     "name": "stderr",
     "output_type": "stream",
     "text": [
      "pytorch_model.bin: 100%|██████████| 3.13G/3.13G [22:22<00:00, 2.33MB/s]\n",
      "Upload 1 LFS files: 100%|██████████| 1/1 [22:22<00:00, 1342.68s/it]\n",
      "spiece.model: 100%|██████████| 797k/797k [00:01<00:00, 542kB/s] \n",
      "Upload 1 LFS files: 100%|██████████| 1/1 [00:01<00:00,  1.72s/it]\n"
     ]
    },
    {
     "data": {
      "text/plain": [
       "CommitInfo(commit_url='https://huggingface.co/vh-student/t5-sl-large-oasst-pairs/commit/f17114225b29145d7674a9f03edebdfe0d04dc54', commit_message='Upload tokenizer', commit_description='', oid='f17114225b29145d7674a9f03edebdfe0d04dc54', pr_url=None, pr_revision=None, pr_num=None)"
      ]
     },
     "execution_count": 3,
     "metadata": {},
     "output_type": "execute_result"
    }
   ],
   "source": [
    "model.push_to_hub(model_name)\n",
    "tokenizer.push_to_hub(model_name)"
   ]
  },
  {
   "cell_type": "code",
   "execution_count": 8,
   "metadata": {},
   "outputs": [
    {
     "data": {
      "text/plain": [
       "['France Prešeren je bil pesnik, pesnik in dramatik, ki je pisal pesmi, pesmi in eseje.',\n",
       " 'France Prešeren je bil pesnik, pesnik in prevajalec.',\n",
       " 'France Prešeren je bil pesnik, pesnik in prevajalec, ki je pisal pesmi, pesmi in eseje.',\n",
       " 'France Prešeren je bil pesnik, pesnik in dramatik, ki je pisal pesmi, pesmi in eseje. Bil je eden najpomembnejših pesnikov 20. stoletja in velja za enega najvidnejših predstavnikov slovenskega naroda.',\n",
       " 'France Prešeren je bil pesnik, pesnik in dramatik, ki je pisal pesmi, pesmi in eseje. Bil je eden najpomembnejših pesnikov 20. stoletja in velja za enega najvidnejših predstavnikov slovenske moderne.']"
      ]
     },
     "execution_count": 8,
     "metadata": {},
     "output_type": "execute_result"
    }
   ],
   "source": [
    "inputs = \"Uporabnik: Kdo je France Prešeren?\"\n",
    "inputs = tokenizer(inputs, return_tensors=\"pt\")\n",
    "\n",
    "outputs = model.generate(**inputs, max_length=128, no_repeat_ngram_size=2, num_beams=5, num_return_sequences=5)\n",
    "\n",
    "tokenizer.batch_decode(outputs, skip_special_tokens=True)"
   ]
  }
 ],
 "metadata": {
  "kernelspec": {
   "display_name": "NLP",
   "language": "python",
   "name": "python3"
  },
  "language_info": {
   "codemirror_mode": {
    "name": "ipython",
    "version": 3
   },
   "file_extension": ".py",
   "mimetype": "text/x-python",
   "name": "python",
   "nbconvert_exporter": "python",
   "pygments_lexer": "ipython3",
   "version": "3.11.3"
  },
  "orig_nbformat": 4
 },
 "nbformat": 4,
 "nbformat_minor": 2
}

{
 "cells": [
  {
   "cell_type": "code",
   "execution_count": 1,
   "metadata": {},
   "outputs": [
    {
     "name": "stderr",
     "output_type": "stream",
     "text": [
      "/home/valter/conda/envs/nlp/lib/python3.11/site-packages/tqdm/auto.py:21: TqdmWarning: IProgress not found. Please update jupyter and ipywidgets. See https://ipywidgets.readthedocs.io/en/stable/user_install.html\n",
      "  from .autonotebook import tqdm as notebook_tqdm\n"
     ]
    }
   ],
   "source": [
    "from transformers import AutoTokenizer, AutoModelForCausalLM,AutoModelForSeq2SeqLM"
   ]
  },
  {
   "cell_type": "code",
   "execution_count": 2,
   "metadata": {},
   "outputs": [],
   "source": [
    "model_path = \"../models\"\n",
    "model_name = \"gpt-sl-oasst1-pairs\"\n",
    "checkpoint = \"checkpoint-34119\"\n",
    "\n",
    "tokenizer = AutoTokenizer.from_pretrained(f\"{model_path}/{model_name}/{checkpoint}\")\n",
    "if 'gpt' in model_name:\n",
    "    model = AutoModelForCausalLM.from_pretrained(f\"{model_path}/{model_name}/{checkpoint}\")\n",
    "elif 't5' in model_name:\n",
    "    model = AutoModelForSeq2SeqLM.from_pretrained(f\"{model_path}/{model_name}/{checkpoint}\")"
   ]
  },
  {
   "attachments": {},
   "cell_type": "markdown",
   "metadata": {},
   "source": [
    "Push to hub"
   ]
  },
  {
   "cell_type": "code",
   "execution_count": 3,
   "metadata": {},
   "outputs": [
    {
     "name": "stderr",
     "output_type": "stream",
     "text": [
      "pytorch_model.bin: 100%|██████████| 540M/540M [00:57<00:00, 9.39MB/s]\n",
      "Upload 1 LFS files: 100%|██████████| 1/1 [00:58<00:00, 58.05s/it]\n"
     ]
    },
    {
     "data": {
      "text/plain": [
       "CommitInfo(commit_url='https://huggingface.co/vh-student/gpt-sl-oasst1-pairs/commit/808d22ae485741baa54ecd823ce35355e4f66ad7', commit_message='Upload tokenizer', commit_description='', oid='808d22ae485741baa54ecd823ce35355e4f66ad7', pr_url=None, pr_revision=None, pr_num=None)"
      ]
     },
     "execution_count": 3,
     "metadata": {},
     "output_type": "execute_result"
    }
   ],
   "source": [
    "model.push_to_hub(model_name)\n",
    "tokenizer.push_to_hub(model_name)"
   ]
  },
  {
   "cell_type": "code",
   "execution_count": 4,
   "metadata": {},
   "outputs": [
    {
     "name": "stderr",
     "output_type": "stream",
     "text": [
      "Setting `pad_token_id` to `eos_token_id`:50256 for open-end generation.\n"
     ]
    },
    {
     "data": {
      "text/plain": [
       "[' UPORABNIK: Kdo je France Prešeren? Katere so njegove najljubše pesmi? Če mi lahko naštejete vse, kar je v njegovi zapuščini, prosim, navedite podatke o njem kot osebi in ločeno za vsakega od njegovih del. Vključuje pomembne datume, kot so rojstni dnevi, sestanki itd., ter druge pomembne stvari, ki jih ni na seznamu \"filozof\". Lahko napišete nekaj primerov pesmi z istim naslovom, vendar ne želite, da bi bil nekdo drug. Poleg tega, kadar koli je na voljo',\n",
       " ' UPORABNIK: Kdo je France Prešeren? Katere so njegove najljubše pesmi? Če mi lahko naštejete vse, kar je v njegovi zapuščini, prosim, navedite podatke o njem kot osebi in ločeno za vsakega od njegovih del. Vključuje pomembne datume, kot so rojstni dnevi, sestanki itd., ter druge pomembne stvari, ki jih ni na seznamu \"filozof\". Lahko napišete nekaj primerov pesmi z istim imenom, vendar imata oba avtorja nekaj različnih narečij. Poleg tega, katera od teh pesmi',\n",
       " ' UPORABNIK: Kdo je France Prešeren? Katere so njegove najljubše pesmi? Če mi lahko naštejete vse, kar je v njegovi zapuščini, prosim, navedite podatke o njem kot osebi in ločeno za vsakega od njegovih del. Vključuje pomembne datume, kot so rojstni dnevi, sestanki itd., ter druge pomembne stvari, ki jih ni na seznamu \"filozof\". Lahko napišete nekaj primerov pesmi z istim imenom, vendar imata oba avtorja nekaj različnih narečij. Poleg tega, katera druga dela ',\n",
       " ' UPORABNIK: Kdo je France Prešeren? Katere so njegove najljubše pesmi? Če mi lahko naštejete vse, kar je v njegovi zapuščini, prosim, navedite podatke o njem kot osebi in ločeno za vsakega od njegovih del. Vključuje pomembne datume, kot so rojstni dnevi, sestanki itd., ter druge pomembne stvari, ki jih ni na seznamu \"filozof\". Lahko napišete nekaj primerov pesmi z istim naslovom, vendar ne želite, da bi bil videti kot seznam moških/ženskih imen. Poleg tega',\n",
       " ' UPORABNIK: Kdo je France Prešeren? Katere so njegove najljubše pesmi? Če mi lahko naštejete vse, kar je v njegovi zapuščini, prosim, navedite podatke o njem kot osebi in ločeno za vsakega od njegovih del. Vključuje pomembne datume, kot so rojstni dnevi, sestanki itd., ter druge pomembne stvari, ki jih ni na seznamu \"filozof\". Lahko napišete nekaj primerov pesmi z istim imenom, vendar imata oba avtorja nekaj različnih narečij. Poleg tega, katera od teh ']"
      ]
     },
     "execution_count": 4,
     "metadata": {},
     "output_type": "execute_result"
    }
   ],
   "source": [
    "inputs = \"UPORABNIK: Kdo je France Prešeren?\"\n",
    "inputs = tokenizer(inputs, return_tensors=\"pt\")\n",
    "\n",
    "outputs = model.generate(**inputs, max_length=128, no_repeat_ngram_size=2, num_beams=5, num_return_sequences=5)\n",
    "\n",
    "tokenizer.batch_decode(outputs, skip_special_tokens=True)"
   ]
  }
 ],
 "metadata": {
  "kernelspec": {
   "display_name": "NLP",
   "language": "python",
   "name": "python3"
  },
  "language_info": {
   "codemirror_mode": {
    "name": "ipython",
    "version": 3
   },
   "file_extension": ".py",
   "mimetype": "text/x-python",
   "name": "python",
   "nbconvert_exporter": "python",
   "pygments_lexer": "ipython3",
   "version": "3.11.3"
  },
  "orig_nbformat": 4
 },
 "nbformat": 4,
 "nbformat_minor": 2
}

{
 "cells": [
  {
   "cell_type": "code",
   "execution_count": 3,
   "metadata": {},
   "outputs": [],
   "source": [
    "from transformers import AutoModelForSeq2SeqLM, AutoTokenizer, AutoModelForCausalLM"
   ]
  },
  {
   "cell_type": "code",
   "execution_count": 4,
   "metadata": {},
   "outputs": [],
   "source": [
    "model_path = \"../models\"\n",
    "model_name = \"gpt-sl-oasst1-context\"\n",
    "\n",
    "tokenizer = AutoTokenizer.from_pretrained(f\"{model_path}/{model_name}\")\n",
    "if 'gpt' in model_name:\n",
    "    model = AutoModelForCausalLM.from_pretrained(f\"{model_path}/{model_name}\")\n",
    "elif 't5' in model_name:\n",
    "    model = AutoModelForSeq2SeqLM.from_pretrained(f\"{model_path}/{model_name}\")"
   ]
  },
  {
   "attachments": {},
   "cell_type": "markdown",
   "metadata": {},
   "source": [
    "Push to hub"
   ]
  },
  {
   "cell_type": "code",
   "execution_count": 7,
   "metadata": {},
   "outputs": [
    {
     "name": "stderr",
     "output_type": "stream",
     "text": [
      "pytorch_model.bin: 100%|██████████| 540M/540M [00:44<00:00, 12.2MB/s]\n",
      "Upload 1 LFS files: 100%|██████████| 1/1 [00:44<00:00, 44.67s/it]\n"
     ]
    },
    {
     "data": {
      "text/plain": [
       "CommitInfo(commit_url='https://huggingface.co/vh-student/gpt-sl-oasst1-context/commit/c69821bb964ede561c08eb22739f2abf674eb501', commit_message='Upload tokenizer', commit_description='', oid='c69821bb964ede561c08eb22739f2abf674eb501', pr_url=None, pr_revision=None, pr_num=None)"
      ]
     },
     "execution_count": 7,
     "metadata": {},
     "output_type": "execute_result"
    }
   ],
   "source": [
    "model.push_to_hub(model_name)\n",
    "tokenizer.push_to_hub(model_name)"
   ]
  },
  {
   "attachments": {},
   "cell_type": "markdown",
   "metadata": {},
   "source": [
    "Check if the file is in the hub"
   ]
  },
  {
   "cell_type": "code",
   "execution_count": 14,
   "metadata": {},
   "outputs": [
    {
     "name": "stderr",
     "output_type": "stream",
     "text": [
      "Downloading (…)lve/main/config.json: 100%|██████████| 817/817 [00:00<00:00, 1.64MB/s]\n",
      "Downloading pytorch_model.bin: 100%|██████████| 307M/307M [00:04<00:00, 63.4MB/s] \n",
      "Downloading (…)neration_config.json: 100%|██████████| 112/112 [00:00<?, ?B/s] \n",
      "Downloading (…)okenizer_config.json: 100%|██████████| 2.38k/2.38k [00:00<00:00, 4.75MB/s]\n",
      "Downloading spiece.model: 100%|██████████| 797k/797k [00:00<00:00, 79.4MB/s]\n",
      "Downloading (…)/main/tokenizer.json: 100%|██████████| 2.34M/2.34M [00:00<00:00, 22.6MB/s]\n",
      "Downloading (…)cial_tokens_map.json: 100%|██████████| 2.20k/2.20k [00:00<?, ?B/s]\n"
     ]
    }
   ],
   "source": [
    "model_checkpoint = \"ls1906/t5-sl-small-finetuned-assistant\"\n",
    "model = AutoModelForSeq2SeqLM.from_pretrained(model_checkpoint)\n",
    "tokenizer = AutoTokenizer.from_pretrained(model_checkpoint)"
   ]
  },
  {
   "cell_type": "code",
   "execution_count": 20,
   "metadata": {},
   "outputs": [
    {
     "name": "stderr",
     "output_type": "stream",
     "text": [
      "Setting `pad_token_id` to `eos_token_id`:50256 for open-end generation.\n"
     ]
    },
    {
     "data": {
      "text/plain": [
       "[' UPORABNIK: Kdo je France Prešeren?\\nVem, da ne moreš iti hitreje od svetlobne hitrosti, toda ali lahko imate v mislih kakšno drugo vprašanje, na katerega ne bi morali odgovoriti.\\n\\nHvaležen bi bil, če bi mi pomagali napisati svoje misli o tem, kako postati boljši prijatelj in se bolje razumeti, kot da moraš biti bolj razumen kot chatbot, saj lahko odgovoriš samo z boljšim imenom in manj \"za\", vendar bi moral imeti tudi dovolj znanja,',\n",
       " ' UPORABNIK: Kdo je France Prešeren?\\nVem, da ne moreš iti hitreje od svetlobne hitrosti, toda ali lahko imate v mislih kakšno drugo vprašanje, na katerega ne bi morali odgovoriti.\\n\\nHvaležen bi bil, če bi mi pomagali napisati svoje misli o tem, kako postati boljši prijatelj in se bolje razumeti, kot da moraš biti bolj razumen kot chatbot, saj lahko odgovoriš samo z boljšim imenom in manj \"za\", vendar bi bilo to bolje, ko bi imel dovolj',\n",
       " ' UPORABNIK: Kdo je France Prešeren?\\nVem, da ne moreš iti hitreje od svetlobne hitrosti, toda ali lahko imate v mislih kakšno drugo vprašanje, na katerega ne bi morali odgovoriti.\\n\\nHvaležen bi bil, če bi mi pomagali napisati svoje misli o tem, kako postati boljši prijatelj in se bolje razumeti, kot da moraš biti bolj razumen kot chatbot, saj lahko odgovoriš samo z boljšim imenom in manj \"za\", vendar bi bilo to bolje, ker morate ',\n",
       " ' UPORABNIK: Kdo je France Prešeren?\\nVem, da ne moreš iti hitreje od svetlobne hitrosti, toda ali lahko imate v mislih kakšno drugo vprašanje, na katerega ne bi morali odgovoriti.\\n\\nHvaležen bi bil, če bi mi pomagali napisati svoje misli o tem, kako postati boljši prijatelj in se bolje razumeti, kot da moraš biti bolj razumen kot chatbot, saj lahko odgovoriš samo z boljšim imenom in manj \"za\", vendar bi bilo to bolje, ko bi imel več',\n",
       " ' UPORABNIK: Kdo je France Prešeren?\\nVem, da ne moreš iti hitreje od svetlobne hitrosti, toda ali lahko imate v mislih kakšno drugo vprašanje, na katerega ne bi morali odgovoriti.\\n\\nHvaležen bi bil, če bi mi pomagali napisati svoje misli o tem, kako postati boljši prijatelj in se bolje razumeti, kot da moraš biti bolj razumen kot chatbot, saj lahko odgovoriš samo z boljšim imenom in manj \"za\", vendar bi bilo to bolje, ko bi imel dobro']"
      ]
     },
     "execution_count": 20,
     "metadata": {},
     "output_type": "execute_result"
    }
   ],
   "source": [
    "inputs = \"UPORABNIK: Kdo je France Prešeren?\"\n",
    "inputs = tokenizer(inputs, return_tensors=\"pt\")\n",
    "outputs = model.generate(**inputs, max_length=128, no_repeat_ngram_size=2, num_beams=5, num_return_sequences=5)\n",
    "tokenizer.decode(outputs[0], skip_special_tokens=True)\n",
    "tokenizer.batch_decode(outputs, skip_special_tokens=True)"
   ]
  }
 ],
 "metadata": {
  "kernelspec": {
   "display_name": "NLP",
   "language": "python",
   "name": "python3"
  },
  "language_info": {
   "codemirror_mode": {
    "name": "ipython",
    "version": 3
   },
   "file_extension": ".py",
   "mimetype": "text/x-python",
   "name": "python",
   "nbconvert_exporter": "python",
   "pygments_lexer": "ipython3",
   "version": "3.11.3"
  },
  "orig_nbformat": 4
 },
 "nbformat": 4,
 "nbformat_minor": 2
}

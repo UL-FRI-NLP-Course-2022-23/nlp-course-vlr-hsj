{
 "cells": [
  {
   "cell_type": "code",
   "execution_count": 2,
   "metadata": {},
   "outputs": [
    {
     "name": "stderr",
     "output_type": "stream",
     "text": [
      "c:\\Users\\valte\\miniconda3\\envs\\nlp\\Lib\\site-packages\\tqdm\\auto.py:21: TqdmWarning: IProgress not found. Please update jupyter and ipywidgets. See https://ipywidgets.readthedocs.io/en/stable/user_install.html\n",
      "  from .autonotebook import tqdm as notebook_tqdm\n"
     ]
    }
   ],
   "source": [
    "from transformers import AutoTokenizer, AutoModelForCausalLM,AutoModelForSeq2SeqLM"
   ]
  },
  {
   "cell_type": "code",
   "execution_count": 5,
   "metadata": {},
   "outputs": [],
   "source": [
    "model_path = \"../models\"\n",
    "model_name = \"t5-sl-large-oasst-pairs\"\n",
    "checkpoint = \"checkpoint-4738\"\n",
    "\n",
    "tokenizer = AutoTokenizer.from_pretrained(f\"{model_path}/{model_name}/{checkpoint}\")\n",
    "if 'gpt' in model_name:\n",
    "    model = AutoModelForCausalLM.from_pretrained(f\"{model_path}/{model_name}/{checkpoint}\")\n",
    "elif 't5' in model_name:\n",
    "    model = AutoModelForSeq2SeqLM.from_pretrained(f\"{model_path}/{model_name}/{checkpoint}\")"
   ]
  },
  {
   "attachments": {},
   "cell_type": "markdown",
   "metadata": {},
   "source": [
    "Push to hub"
   ]
  },
  {
   "cell_type": "code",
   "execution_count": 7,
   "metadata": {},
   "outputs": [
    {
     "name": "stderr",
     "output_type": "stream",
     "text": [
      "Upload 1 LFS files:   0%|          | 0/1 [00:00<?, ?it/s]"
     ]
    }
   ],
   "source": [
    "model.push_to_hub(model_name)\n",
    "tokenizer.push_to_hub(model_name)"
   ]
  },
  {
   "cell_type": "code",
   "execution_count": null,
   "metadata": {},
   "outputs": [
    {
     "name": "stderr",
     "output_type": "stream",
     "text": [
      "Setting `pad_token_id` to `eos_token_id`:50256 for open-end generation.\n"
     ]
    },
    {
     "data": {
      "text/plain": [
       "[' UPORABNIK: Kdo je France Prešeren?\\nVem, da ne moreš iti hitreje od svetlobne hitrosti, toda ali lahko imate v mislih kakšno drugo vprašanje, na katerega ne bi morali odgovoriti.\\n\\nHvaležen bi bil, če bi mi pomagali napisati svoje misli o tem, kako postati boljši prijatelj in se bolje razumeti, kot da moraš biti bolj razumen kot chatbot, saj lahko odgovoriš samo z boljšim imenom in manj \"za\", vendar bi moral imeti tudi dovolj znanja,',\n",
       " ' UPORABNIK: Kdo je France Prešeren?\\nVem, da ne moreš iti hitreje od svetlobne hitrosti, toda ali lahko imate v mislih kakšno drugo vprašanje, na katerega ne bi morali odgovoriti.\\n\\nHvaležen bi bil, če bi mi pomagali napisati svoje misli o tem, kako postati boljši prijatelj in se bolje razumeti, kot da moraš biti bolj razumen kot chatbot, saj lahko odgovoriš samo z boljšim imenom in manj \"za\", vendar bi bilo to bolje, ko bi imel dovolj',\n",
       " ' UPORABNIK: Kdo je France Prešeren?\\nVem, da ne moreš iti hitreje od svetlobne hitrosti, toda ali lahko imate v mislih kakšno drugo vprašanje, na katerega ne bi morali odgovoriti.\\n\\nHvaležen bi bil, če bi mi pomagali napisati svoje misli o tem, kako postati boljši prijatelj in se bolje razumeti, kot da moraš biti bolj razumen kot chatbot, saj lahko odgovoriš samo z boljšim imenom in manj \"za\", vendar bi bilo to bolje, ker morate ',\n",
       " ' UPORABNIK: Kdo je France Prešeren?\\nVem, da ne moreš iti hitreje od svetlobne hitrosti, toda ali lahko imate v mislih kakšno drugo vprašanje, na katerega ne bi morali odgovoriti.\\n\\nHvaležen bi bil, če bi mi pomagali napisati svoje misli o tem, kako postati boljši prijatelj in se bolje razumeti, kot da moraš biti bolj razumen kot chatbot, saj lahko odgovoriš samo z boljšim imenom in manj \"za\", vendar bi bilo to bolje, ko bi imel več',\n",
       " ' UPORABNIK: Kdo je France Prešeren?\\nVem, da ne moreš iti hitreje od svetlobne hitrosti, toda ali lahko imate v mislih kakšno drugo vprašanje, na katerega ne bi morali odgovoriti.\\n\\nHvaležen bi bil, če bi mi pomagali napisati svoje misli o tem, kako postati boljši prijatelj in se bolje razumeti, kot da moraš biti bolj razumen kot chatbot, saj lahko odgovoriš samo z boljšim imenom in manj \"za\", vendar bi bilo to bolje, ko bi imel dobro']"
      ]
     },
     "execution_count": 12,
     "metadata": {},
     "output_type": "execute_result"
    }
   ],
   "source": [
    "inputs = \"UPORABNIK: Kdo je France Prešeren?\"\n",
    "inputs = tokenizer(inputs, return_tensors=\"pt\")\n",
    "\n",
    "outputs = model.generate(**inputs, max_length=128, no_repeat_ngram_size=2, num_beams=5, num_return_sequences=5)\n",
    "\n",
    "tokenizer.batch_decode(outputs, skip_special_tokens=True)"
   ]
  }
 ],
 "metadata": {
  "kernelspec": {
   "display_name": "NLP",
   "language": "python",
   "name": "python3"
  },
  "language_info": {
   "codemirror_mode": {
    "name": "ipython",
    "version": 3
   },
   "file_extension": ".py",
   "mimetype": "text/x-python",
   "name": "python",
   "nbconvert_exporter": "python",
   "pygments_lexer": "ipython3",
   "version": "3.11.3"
  },
  "orig_nbformat": 4
 },
 "nbformat": 4,
 "nbformat_minor": 2
}
